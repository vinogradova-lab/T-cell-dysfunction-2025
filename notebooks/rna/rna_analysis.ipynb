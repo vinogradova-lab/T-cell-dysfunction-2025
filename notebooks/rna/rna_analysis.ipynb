{
 "cells": [
  {
   "cell_type": "markdown",
   "metadata": {},
   "source": [
    "## Bulk RNA-Seq Analysis"
   ]
  },
  {
   "cell_type": "code",
   "execution_count": 1,
   "metadata": {},
   "outputs": [],
   "source": [
    "import numpy as np\n",
    "import matplotlib.pyplot as plt\n",
    "import pandas as pd\n",
    "import plotly.express as px\n",
    "import seaborn as sns\n",
    "import numpy as np\n",
    "import matplotlib.pylab as plt\n",
    "from sklearn.decomposition import PCA\n",
    "import math\n",
    "import pathlib\n",
    "from functools import reduce    \n",
    "\n",
    "plt.rcParams[\"font.family\"] = \"Arial\"\n",
    "sns.set_theme(style=\"white\")"
   ]
  },
  {
   "cell_type": "code",
   "execution_count": 33,
   "metadata": {},
   "outputs": [],
   "source": [
    "# specify file path\n",
    "data_path = pathlib.Path(\"/Users/henrysanford/Dropbox @RU Dropbox/Vinogradova Laboratory/Exhaustion manuscript/01_RNA-sequencing/PIP5K1-KO\")\n",
    "df_path = data_path / \"normalized_counts.tsv\""
   ]
  },
  {
   "cell_type": "markdown",
   "metadata": {},
   "source": [
    "### Principal component analysis"
   ]
  },
  {
   "cell_type": "code",
   "execution_count": 34,
   "metadata": {},
   "outputs": [],
   "source": [
    "def run_and_plot_pca(data_df, output_path):\n",
    "    pathlib.Path(output_path).mkdir(exist_ok = True)\n",
    "    # log transform the data\n",
    "    df_log = np.log2(data_df)\n",
    "    number_of_proteins_in_common = df_log.shape[0]\n",
    "    df_log = df_log.replace(-np.inf, np.nan)\n",
    "    df_log = df_log.dropna()\n",
    "    # transpose data\n",
    "    df_log_t = df_log.transpose()\n",
    "    df_log_t.reset_index(inplace=True)\n",
    "    df_log_t = df_log_t.rename(columns={\"index\":\"sample_name\"})\n",
    "    df_log_t.sample(5)\n",
    "    # prepare subset dataframes for pc analysis\n",
    "    X = df_log_t.drop('sample_name', axis=1)\n",
    "    X.sample(5)\n",
    "    y = df_log_t['sample_name']\n",
    "    # specify number of components and fit transform\n",
    "    pca = PCA(n_components=5)\n",
    "    principal_components = pca.fit_transform(X)\n",
    "    # create prinicpal component dataframe\n",
    "    principal_components_df = pd.DataFrame(data = principal_components,\n",
    "                                        columns = ['PC1','PC2','PC3','PC4', 'PC5'])\n",
    "    principal_components_df = pd.concat([principal_components_df, y], axis = 1)\n",
    "    principal_components_df.head(5)\n",
    "    # add metadata information\n",
    "    principal_components_df[\"condition\"] = principal_components_df[\"sample_name\"].apply(lambda a: a.split(\"_\")[1].split(\"_\")[0][:-2].replace(\".\",\"_\"))\n",
    "    principal_components_df\n",
    "    # create barplot of explained variance\n",
    "    sns.barplot(x=['PC1','PC2','PC3','PC4', 'PC5'],\n",
    "            y=(pca.explained_variance_ratio_)*100,\n",
    "            edgecolor = 'black',\n",
    "            palette = 'YlGnBu').set(title='Principal Components', ylabel='Percent (%)')\n",
    "    plt.show()\n",
    "    plt.savefig(output_path / \"principal_components.svg\")\n",
    "    # get PCA loadings dataframe\n",
    "    loadings_df = pd.DataFrame(data = np.transpose(pca.components_), columns = ['PC1','PC2','PC3','PC4','PC5'])\n",
    "    X = df_log_t.drop('sample_name', axis=1)\n",
    "    loadings_df[\"variable\"] = list(X.columns)\n",
    "    # specify range of plot, symbold and colors\n",
    "    \n",
    "    symbols = [\"circle\", \"triangle-up\"]\n",
    "    rename_conditions = {\n",
    "        \"D2\" : \"D2\",\n",
    "        \"D4_Ac\":\"D4A\",\n",
    "        \"D4_Chr\":\"D4C\",\n",
    "        \"D8_Ac\":\"D8A\",\n",
    "        \"D8_Chr\":\"D8C\"\n",
    "    }\n",
    "    principal_components_df['condition'] = principal_components_df[\"condition\"].replace(rename_conditions)\n",
    "    color_discrete_map = {\n",
    "        \"D2\": \"#F9A05C\",\n",
    "        \"D4A\": \"#47C6E7\",\n",
    "        \"D4C\": \"#F06691\",\n",
    "        \"D8A\": \"#B9D982\",\n",
    "        \"D8C\": \"#DA9EC7\"\n",
    "    }\n",
    "    principal_components_df.to_csv(output_path / \"principal_components.csv\")\n",
    "    # create pca plot\n",
    "    fig = px.scatter(principal_components_df,\n",
    "                    x='PC1',\n",
    "                    y='PC2',\n",
    "                    hover_data=['sample_name'],\n",
    "                    color=principal_components_df['condition'],\n",
    "                    color_discrete_map=color_discrete_map,\n",
    "                    labels={\"PC1\": \"PC1 ({}%)\".format(round((pca.explained_variance_ratio_[0] * 100),2)),\n",
    "                            \"PC2\": \"PC2 ({}%)\".format(round((pca.explained_variance_ratio_[1] * 100),2)),\n",
    "                            \"species\": \"Species\"},\n",
    "                    title=\"PCA plot\" +\" (\"+str(number_of_proteins_in_common)+\" Genes)\",\n",
    "                    template=\"plotly_white\",\n",
    "                    category_orders={\"condition\": ['D2', 'D4A', 'D4C', 'D8A', 'D8C']})\n",
    "    \n",
    "    #updates the range of x and y axis\n",
    "    fig.update_xaxes(dtick=4, range=[principal_components_df[\"PC1\"].min() - 2, principal_components_df[\"PC1\"].max() + 2])\n",
    "    fig.update_yaxes(dtick=4, range=[principal_components_df[\"PC2\"].min() - 2, principal_components_df[\"PC2\"].max() + 2])\n",
    "    \n",
    "    #determines if border of plot should be shown\n",
    "    fig.update_xaxes(showline=True, linewidth=2, linecolor='black', mirror=True)\n",
    "    fig.update_yaxes(showline=True, linewidth=2, linecolor='black', mirror=True)\n",
    "    \n",
    "    #determines gridlines details\n",
    "    fig.update_xaxes(showgrid=True, gridwidth=2, gridcolor='#E8E8E8')\n",
    "    fig.update_yaxes(showgrid=True, gridwidth=2, gridcolor='#E8E8E8')\n",
    "    \n",
    "    #determines how zerolines should be displayed\n",
    "    fig.update_xaxes(zerolinewidth=2, zerolinecolor='#E8E8E8')\n",
    "    fig.update_yaxes(zerolinewidth=2, zerolinecolor='#E8E8E8')\n",
    "    \n",
    "    #updates size of feature points in plot\n",
    "    fig.update_traces(marker=dict(size=12),\n",
    "                    selector=dict(mode='markers'))\n",
    "    \n",
    "    #specifies layout details\n",
    "    fig.update_layout(height=500,\n",
    "                    width=600,\n",
    "                    showlegend=True,\n",
    "                    legend_title_text='Condition',\n",
    "                    font=dict(family=\"Arial\",\n",
    "                              color=\"black\"),\n",
    "                    title_x=0.45)\n",
    "    \n",
    "    fig.write_html(output_path / \"pca_plot.html\")\n",
    "    fig.write_image(output_path / \"pca_plot.svg\")\n",
    "    #fig.savefig(\"pca_plot.png\")\n",
    "    fig.show()\n",
    "    # get one laodings worth, rememeber sum of squares per PC loading = 1\n",
    "    one_loading_value = math.sqrt(1/len(loadings_df))\n",
    "    # then filter out ones that contribute more than one variables worth\n",
    "    filtered_loadings = loadings_df[(loadings_df[\"PC1\"] > one_loading_value) | (loadings_df[\"PC1\"] < -one_loading_value) | (loadings_df[\"PC2\"] > one_loading_value) | (loadings_df[\"PC2\"] < -one_loading_value)]\n",
    "    \n",
    "    top_pos_PC1_df = filtered_loadings.sort_values('PC1', ascending=False).head(10)\n",
    "    top_neg_PC1_df = filtered_loadings.sort_values('PC1').head(10)\n",
    "    \n",
    "    top_pos_PC2_df = filtered_loadings.sort_values('PC2', ascending=False).head(10)\n",
    "    top_neg_PC2_df = filtered_loadings.sort_values('PC2').head(10)\n",
    "    \n",
    "    df_list = [top_pos_PC1_df, top_neg_PC1_df, top_pos_PC2_df, top_neg_PC2_df]\n",
    "    \n",
    "    merged_loadings_df = reduce(lambda x, y: pd.merge(x[[\"variable\", \"PC1\", \"PC2\"]], y[[\"variable\", \"PC1\", \"PC2\"]], on = [\"variable\", \"PC1\", \"PC2\"],  how = \"outer\"), df_list)\n",
    "    merged_loadings_df.head(5)\n",
    "    # add loadings to pca plot\n",
    "    n = merged_loadings_df.shape[0]\n",
    "    for i in range(n):\n",
    "        fig.add_annotation(x= 0,\n",
    "                        y= 0,\n",
    "                        ax=merged_loadings_df.iloc[i,1] * 80,\n",
    "                        ay=merged_loadings_df.iloc[i,2] * 80,\n",
    "                        xref='x',\n",
    "                        yref='y',\n",
    "                        axref='x',\n",
    "                        ayref='y',\n",
    "                        text=merged_loadings_df.iloc[i,0],\n",
    "                        showarrow=True,\n",
    "                        arrowhead=3,\n",
    "                        arrowsize=1,\n",
    "                        arrowwidth=1,\n",
    "                        arrowcolor='red',\n",
    "                        opacity=0.6,\n",
    "                        arrowside='start')\n",
    "    \n",
    "    fig.write_html(output_path / \"pca_plot_with_loadings.html\")\n",
    "    fig.show()\n",
    "    # create heatmap of loadings P\n",
    "    plt.figure(figsize=(5,8))\n",
    "    sns.heatmap(merged_loadings_df.set_index(\"variable\"),\n",
    "            cmap='YlGnBu',\n",
    "            linewidths=0.7,\n",
    "            linecolor=\"black\").set(title='Loadings', ylabel=None)\n",
    "    plt.savefig(output_path /  \"loadings_heatmap.svg\", bbox_inches='tight')\n",
    "    plt.show()\n",
    "    loadings_df.to_csv(output_path / \"loadings_df.csv\")\n"
   ]
  },
  {
   "cell_type": "code",
   "execution_count": 35,
   "metadata": {},
   "outputs": [
    {
     "name": "stderr",
     "output_type": "stream",
     "text": [
      "/Users/henrysanford/miniconda/envs/exhaustion/lib/python3.12/site-packages/pandas/core/internals/blocks.py:393: RuntimeWarning:\n",
      "\n",
      "divide by zero encountered in log2\n",
      "\n",
      "/var/folders/_y/ykkyh0zs03x3r9jzl6tpc7rm0000gq/T/ipykernel_14252/4273115286.py:29: FutureWarning:\n",
      "\n",
      "\n",
      "\n",
      "Passing `palette` without assigning `hue` is deprecated and will be removed in v0.14.0. Assign the `x` variable to `hue` and set `legend=False` for the same effect.\n",
      "\n",
      "\n"
     ]
    },
    {
     "data": {
      "image/png": "[encoded data removed]",
      "text/plain": [
       "<Figure size 640x480 with 1 Axes>"
      ]
     },
     "metadata": {},
     "output_type": "display_data"
    },
    {
     "data": {
      "application/vnd.plotly.v1+json": {
       "config": {
        "plotlyServerURL": "https://plot.ly"
       },
       "data": [
        {
         "customdata": [
          [
           "sorted_bam_files/Donor1-10-D8A-1A_sorted.bam"
          ],
          [
           "sorted_bam_files/Donor1-11-D8A-1B_sorted.bam"
          ],
          [
           "sorted_bam_files/Donor1-12-D8A-1C_sorted.bam"
          ],
          [
           "sorted_bam_files/Donor1-13-D8C-Ctrl_sorted.bam"
          ],
          [
           "sorted_bam_files/Donor1-14-D8C-1A_sorted.bam"
          ],
          [
           "sorted_bam_files/Donor1-15-D8C-1B_sorted.bam"
          ],
          [
           "sorted_bam_files/Donor1-16-D8C-1C_sorted.bam"
          ],
          [
           "sorted_bam_files/Donor1-1-D8A-Ctrl_sorted.bam"
          ],
          [
           "sorted_bam_files/Donor1-2-D8A-1A_sorted.bam"
          ],
          [
           "sorted_bam_files/Donor1-3-D8A-1B_sorted.bam"
          ],
          [
           "sorted_bam_files/Donor1-4-D8A-1C_sorted.bam"
          ],
          [
           "sorted_bam_files/Donor1-5-D8C-Ctrl_sorted.bam"
          ],
          [
           "sorted_bam_files/Donor1-6-D8C-1A_sorted.bam"
          ],
          [
           "sorted_bam_files/Donor1-7-D8C-1B_sorted.bam"
          ],
          [
           "sorted_bam_files/Donor1-8-D8C-1C_sorted.bam"
          ],
          [
           "sorted_bam_files/Donor1-9-D8A-Ctrl_sorted.bam"
          ],
          [
           "sorted_bam_files/Donor2-10-D8A-1A_sorted.bam"
          ],
          [
           "sorted_bam_files/Donor2-11-D8A-1B_sorted.bam"
          ],
          [
           "sorted_bam_files/Donor2-12-D8A-1C_sorted.bam"
          ],
          [
           "sorted_bam_files/Donor2-13-D8C-Ctrl_sorted.bam"
          ],
          [
           "sorted_bam_files/Donor2-14-D8C-1A_sorted.bam"
          ],
          [
           "sorted_bam_files/Donor2-15-D8C-1B_sorted.bam"
          ],
          [
           "sorted_bam_files/Donor2-16-D8C-1C_sorted.bam"
          ],
          [
           "sorted_bam_files/Donor2-1-D8A-Ctrl_sorted.bam"
          ],
          [
           "sorted_bam_files/Donor2-2-D8A-1A_sorted.bam"
          ],
          [
           "sorted_bam_files/Donor2-3-D8A-1B_sorted.bam"
          ],
          [
           "sorted_bam_files/Donor2-4-D8A-1C_sorted.bam"
          ],
          [
           "sorted_bam_files/Donor2-5-D8C-Ctrl_sorted.bam"
          ],
          [
           "sorted_bam_files/Donor2-6-D8C-1A_sorted.bam"
          ],
          [
           "sorted_bam_files/Donor2-7-D8C-1B_sorted.bam"
          ],
          [
           "sorted_bam_files/Donor2-8-D8C-1C_sorted.bam"
          ],
          [
           "sorted_bam_files/Donor2-9-D8A-Ctrl_sorted.bam"
          ],
          [
           "sorted_bam_files/Donor3-10-D8A-1A_sorted.bam"
          ],
          [
           "sorted_bam_files/Donor3-11-D8A-1B_sorted.bam"
          ],
          [
           "sorted_bam_files/Donor3-12-D8A-1C_sorted.bam"
          ],
          [
           "sorted_bam_files/Donor3-13-D8C-Ctrl_sorted.bam"
          ],
          [
           "sorted_bam_files/Donor3-14-D8C-1A_sorted.bam"
          ],
          [
           "sorted_bam_files/Donor3-15-D8C-1B_sorted.bam"
          ],
          [
           "sorted_bam_files/Donor3-16-D8C-1C_sorted.bam"
          ],
          [
           "sorted_bam_files/Donor3-1-D8A-Ctrl_sorted.bam"
          ],
          [
           "sorted_bam_files/Donor3-2-D8A-1A_sorted.bam"
          ],
          [
           "sorted_bam_files/Donor3-3-D8A-1B_sorted.bam"
          ],
          [
           "sorted_bam_files/Donor3-4-D8A-1C_sorted.bam"
          ],
          [
           "sorted_bam_files/Donor3-5-D8C-Ctrl_sorted.bam"
          ],
          [
           "sorted_bam_files/Donor3-6-D8C-1A_sorted.bam"
          ],
          [
           "sorted_bam_files/Donor3-7-D8C-1B_sorted.bam"
          ],
          [
           "sorted_bam_files/Donor3-8-D8C-1C_sorted.bam"
          ],
          [
           "sorted_bam_files/Donor3-9-D8A-Ctrl_sorted.bam"
          ]
         ],
         "hovertemplate": "condition=b<br>PC1 (73.17%)=%{x}<br>PC2 (5.94%)=%{y}<br>sample_name=%{customdata[0]}<extra></extra>",
         "legendgroup": "b",
         "marker": {
          "color": "#19d3f3",
          "size": 12,
          "symbol": "circle"
         },
         "mode": "markers",
         "name": "b",
         "orientation": "v",
         "showlegend": true,
         "type": "scatter",
         "x": [
          -70.25221899579388,
          -71.20526827175331,
          -70.48373755380203,
          69.89632089292897,
          68.30243499873774,
          69.82374491152923,
          59.69343655713947,
          -69.76159064592686,
          -70.59627934279602,
          -70.63738942006897,
          -70.49817246820662,
          69.44484821393229,
          70.83668419507352,
          70.12221620570858,
          66.1505516343221,
          -70.75966574631455,
          -70.18957552791161,
          -70.14261106619539,
          -62.362307956152286,
          68.45339317698307,
          67.96558580994706,
          69.3535960584349,
          68.26588700362308,
          -70.37647552152359,
          -70.03443442249733,
          -70.88189769098464,
          -70.75804944720181,
          68.56683015249813,
          69.7801154005961,
          69.06996271213097,
          67.91478037721463,
          -68.44698916480743,
          -70.86534000125762,
          -68.64843651611665,
          -69.30063080065123,
          74.1367936372447,
          73.22078055799147,
          73.23850996643677,
          73.72944668889454,
          -68.03578533944228,
          -68.26838845899924,
          -69.35554305038475,
          -67.91054574058596,
          74.84908161246332,
          57.99994875643713,
          72.3788423770077,
          73.9383573498039,
          -67.3608160977053
         ],
         "xaxis": "x",
         "y": [
          19.605551784845346,
          20.649851311560237,
          18.233408030818552,
          26.75467027151058,
          32.88815053615381,
          29.553873005738808,
          37.93269890781264,
          19.555491144947545,
          19.3308172048203,
          18.446796610479154,
          17.918288032181582,
          26.26306928369441,
          23.764898405700627,
          28.2513208207114,
          35.23865488439014,
          20.40928860863626,
          -14.791402770463426,
          -16.120028802316064,
          -16.58111929772136,
          -34.09758603673641,
          -30.989316215684685,
          -24.97003852697186,
          -16.15219393592362,
          -13.048830695876974,
          -16.68532300513202,
          -16.711078475461196,
          -16.430958492088855,
          -30.784419084864524,
          -23.599966149149115,
          -25.935292950428344,
          -15.674904874043449,
          -14.39838015728866,
          -5.517596540814631,
          -5.718847525949761,
          -3.7048083654388186,
          -8.56845899553407,
          -0.2480423059502433,
          -4.832032005889051,
          -7.935464839223133,
          -4.014660134771613,
          -5.389521707570474,
          -3.8937026460193422,
          -4.728703641292077,
          -22.393380496378562,
          15.546438412113535,
          -1.320999172141614,
          -1.9808177476572335,
          -3.1253916613337616
         ],
         "yaxis": "y"
        }
       ],
       "layout": {
        "font": {
         "color": "black",
         "family": "Arial"
        },
        "height": 500,
        "legend": {
         "title": {
          "text": "Condition"
         },
         "tracegroupgap": 0
        },
        "showlegend": true,
        "template": {
         "data": {
          "bar": [
           {
            "error_x": {
             "color": "#2a3f5f"
            },
            "error_y": {
             "color": "#2a3f5f"
            },
            "marker": {
             "line": {
              "color": "white",
              "width": 0.5
             },
             "pattern": {
              "fillmode": "overlay",
              "size": 10,
              "solidity": 0.2
             }
            },
            "type": "bar"
           }
          ],
          "barpolar": [
           {
            "marker": {
             "line": {
              "color": "white",
              "width": 0.5
             },
             "pattern": {
              "fillmode": "overlay",
              "size": 10,
              "solidity": 0.2
             }
            },
            "type": "barpolar"
           }
          ],
          "carpet": [
           {
            "aaxis": {
             "endlinecolor": "#2a3f5f",
             "gridcolor": "#C8D4E3",
             "linecolor": "#C8D4E3",
             "minorgridcolor": "#C8D4E3",
             "startlinecolor": "#2a3f5f"
            },
            "baxis": {
             "endlinecolor": "#2a3f5f",
             "gridcolor": "#C8D4E3",
             "linecolor": "#C8D4E3",
             "minorgridcolor": "#C8D4E3",
             "startlinecolor": "#2a3f5f"
            },
            "type": "carpet"
           }
          ],
          "choropleth": [
           {
            "colorbar": {
             "outlinewidth": 0,
             "ticks": ""
            },
            "type": "choropleth"
           }
          ],
          "contour": [
           {
            "colorbar": {
             "outlinewidth": 0,
             "ticks": ""
            },
            "colorscale": [
             [
              0,
              "#0d0887"
             ],
             [
              0.1111111111111111,
              "#46039f"
             ],
             [
              0.2222222222222222,
              "#7201a8"
             ],
             [
              0.3333333333333333,
              "#9c179e"
             ],
             [
              0.4444444444444444,
              "#bd3786"
             ],
             [
              0.5555555555555556,
              "#d8576b"
             ],
             [
              0.6666666666666666,
              "#ed7953"
             ],
             [
              0.7777777777777778,
              "#fb9f3a"
             ],
             [
              0.8888888888888888,
              "#fdca26"
             ],
             [
              1,
              "#f0f921"
             ]
            ],
            "type": "contour"
           }
          ],
          "contourcarpet": [
           {
            "colorbar": {
             "outlinewidth": 0,
             "ticks": ""
            },
            "type": "contourcarpet"
           }
          ],
          "heatmap": [
           {
            "colorbar": {
             "outlinewidth": 0,
             "ticks": ""
            },
            "colorscale": [
             [
              0,
              "#0d0887"
             ],
             [
              0.1111111111111111,
              "#46039f"
             ],
             [
              0.2222222222222222,
              "#7201a8"
             ],
             [
              0.3333333333333333,
              "#9c179e"
             ],
             [
              0.4444444444444444,
              "#bd3786"
             ],
             [
              0.5555555555555556,
              "#d8576b"
             ],
             [
              0.6666666666666666,
              "#ed7953"
             ],
             [
              0.7777777777777778,
              "#fb9f3a"
             ],
             [
              0.8888888888888888,
              "#fdca26"
             ],
             [
              1,
              "#f0f921"
             ]
            ],
            "type": "heatmap"
           }
          ],
          "heatmapgl": [
           {
            "colorbar": {
             "outlinewidth": 0,
             "ticks": ""
            },
            "colorscale": [
             [
              0,
              "#0d0887"
             ],
             [
              0.1111111111111111,
              "#46039f"
             ],
             [
              0.2222222222222222,
              "#7201a8"
             ],
             [
              0.3333333333333333,
              "#9c179e"
             ],
             [
              0.4444444444444444,
              "#bd3786"
             ],
             [
              0.5555555555555556,
              "#d8576b"
             ],
             [
              0.6666666666666666,
              "#ed7953"
             ],
             [
              0.7777777777777778,
              "#fb9f3a"
             ],
             [
              0.8888888888888888,
              "#fdca26"
             ],
             [
              1,
              "#f0f921"
             ]
            ],
            "type": "heatmapgl"
           }
          ],
          "histogram": [
           {
            "marker": {
             "pattern": {
              "fillmode": "overlay",
              "size": 10,
              "solidity": 0.2
             }
            },
            "type": "histogram"
           }
          ],
          "histogram2d": [
           {
            "colorbar": {
             "outlinewidth": 0,
             "ticks": ""
            },
            "colorscale": [
             [
              0,
              "#0d0887"
             ],
             [
              0.1111111111111111,
              "#46039f"
             ],
             [
              0.2222222222222222,
              "#7201a8"
             ],
             [
              0.3333333333333333,
              "#9c179e"
             ],
             [
              0.4444444444444444,
              "#bd3786"
             ],
             [
              0.5555555555555556,
              "#d8576b"
             ],
             [
              0.6666666666666666,
              "#ed7953"
             ],
             [
              0.7777777777777778,
              "#fb9f3a"
             ],
             [
              0.8888888888888888,
              "#fdca26"
             ],
             [
              1,
              "#f0f921"
             ]
            ],
            "type": "histogram2d"
           }
          ],
          "histogram2dcontour": [
           {
            "colorbar": {
             "outlinewidth": 0,
             "ticks": ""
            },
            "colorscale": [
             [
              0,
              "#0d0887"
             ],
             [
              0.1111111111111111,
              "#46039f"
             ],
             [
              0.2222222222222222,
              "#7201a8"
             ],
             [
              0.3333333333333333,
              "#9c179e"
             ],
             [
              0.4444444444444444,
              "#bd3786"
             ],
             [
              0.5555555555555556,
              "#d8576b"
             ],
             [
              0.6666666666666666,
              "#ed7953"
             ],
             [
              0.7777777777777778,
              "#fb9f3a"
             ],
             [
              0.8888888888888888,
              "#fdca26"
             ],
             [
              1,
              "#f0f921"
             ]
            ],
            "type": "histogram2dcontour"
           }
          ],
          "mesh3d": [
           {
            "colorbar": {
             "outlinewidth": 0,
             "ticks": ""
            },
            "type": "mesh3d"
           }
          ],
          "parcoords": [
           {
            "line": {
             "colorbar": {
              "outlinewidth": 0,
              "ticks": ""
             }
            },
            "type": "parcoords"
           }
          ],
          "pie": [
           {
            "automargin": true,
            "type": "pie"
           }
          ],
          "scatter": [
           {
            "fillpattern": {
             "fillmode": "overlay",
             "size": 10,
             "solidity": 0.2
            },
            "type": "scatter"
           }
          ],
          "scatter3d": [
           {
            "line": {
             "colorbar": {
              "outlinewidth": 0,
              "ticks": ""
             }
            },
            "marker": {
             "colorbar": {
              "outlinewidth": 0,
              "ticks": ""
             }
            },
            "type": "scatter3d"
           }
          ],
          "scattercarpet": [
           {
            "marker": {
             "colorbar": {
              "outlinewidth": 0,
              "ticks": ""
             }
            },
            "type": "scattercarpet"
           }
          ],
          "scattergeo": [
           {
            "marker": {
             "colorbar": {
              "outlinewidth": 0,
              "ticks": ""
             }
            },
            "type": "scattergeo"
           }
          ],
          "scattergl": [
           {
            "marker": {
             "colorbar": {
              "outlinewidth": 0,
              "ticks": ""
             }
            },
            "type": "scattergl"
           }
          ],
          "scattermapbox": [
           {
            "marker": {
             "colorbar": {
              "outlinewidth": 0,
              "ticks": ""
             }
            },
            "type": "scattermapbox"
           }
          ],
          "scatterpolar": [
           {
            "marker": {
             "colorbar": {
              "outlinewidth": 0,
              "ticks": ""
             }
            },
            "type": "scatterpolar"
           }
          ],
          "scatterpolargl": [
           {
            "marker": {
             "colorbar": {
              "outlinewidth": 0,
              "ticks": ""
             }
            },
            "type": "scatterpolargl"
           }
          ],
          "scatterternary": [
           {
            "marker": {
             "colorbar": {
              "outlinewidth": 0,
              "ticks": ""
             }
            },
            "type": "scatterternary"
           }
          ],
          "surface": [
           {
            "colorbar": {
             "outlinewidth": 0,
             "ticks": ""
            },
            "colorscale": [
             [
              0,
              "#0d0887"
             ],
             [
              0.1111111111111111,
              "#46039f"
             ],
             [
              0.2222222222222222,
              "#7201a8"
             ],
             [
              0.3333333333333333,
              "#9c179e"
             ],
             [
              0.4444444444444444,
              "#bd3786"
             ],
             [
              0.5555555555555556,
              "#d8576b"
             ],
             [
              0.6666666666666666,
              "#ed7953"
             ],
             [
              0.7777777777777778,
              "#fb9f3a"
             ],
             [
              0.8888888888888888,
              "#fdca26"
             ],
             [
              1,
              "#f0f921"
             ]
            ],
            "type": "surface"
           }
          ],
          "table": [
           {
            "cells": {
             "fill": {
              "color": "#EBF0F8"
             },
             "line": {
              "color": "white"
             }
            },
            "header": {
             "fill": {
              "color": "#C8D4E3"
             },
             "line": {
              "color": "white"
             }
            },
            "type": "table"
           }
          ]
         },
         "layout": {
          "annotationdefaults": {
           "arrowcolor": "#2a3f5f",
           "arrowhead": 0,
           "arrowwidth": 1
          },
          "autotypenumbers": "strict",
          "coloraxis": {
           "colorbar": {
            "outlinewidth": 0,
            "ticks": ""
           }
          },
          "colorscale": {
           "diverging": [
            [
             0,
             "#8e0152"
            ],
            [
             0.1,
             "#c51b7d"
            ],
            [
             0.2,
             "#de77ae"
            ],
            [
             0.3,
             "#f1b6da"
            ],
            [
             0.4,
             "#fde0ef"
            ],
            [
             0.5,
             "#f7f7f7"
            ],
            [
             0.6,
             "#e6f5d0"
            ],
            [
             0.7,
             "#b8e186"
            ],
            [
             0.8,
             "#7fbc41"
            ],
            [
             0.9,
             "#4d9221"
            ],
            [
             1,
             "#276419"
            ]
           ],
           "sequential": [
            [
             0,
             "#0d0887"
            ],
            [
             0.1111111111111111,
             "#46039f"
            ],
            [
             0.2222222222222222,
             "#7201a8"
            ],
            [
             0.3333333333333333,
             "#9c179e"
            ],
            [
             0.4444444444444444,
             "#bd3786"
            ],
            [
             0.5555555555555556,
             "#d8576b"
            ],
            [
             0.6666666666666666,
             "#ed7953"
            ],
            [
             0.7777777777777778,
             "#fb9f3a"
            ],
            [
             0.8888888888888888,
             "#fdca26"
            ],
            [
             1,
             "#f0f921"
            ]
           ],
           "sequentialminus": [
            [
             0,
             "#0d0887"
            ],
            [
             0.1111111111111111,
             "#46039f"
            ],
            [
             0.2222222222222222,
             "#7201a8"
            ],
            [
             0.3333333333333333,
             "#9c179e"
            ],
            [
             0.4444444444444444,
             "#bd3786"
            ],
            [
             0.5555555555555556,
             "#d8576b"
            ],
            [
             0.6666666666666666,
             "#ed7953"
            ],
            [
             0.7777777777777778,
             "#fb9f3a"
            ],
            [
             0.8888888888888888,
             "#fdca26"
            ],
            [
             1,
             "#f0f921"
            ]
           ]
          },
          "colorway": [
           "#636efa",
           "#EF553B",
           "#00cc96",
           "#ab63fa",
           "#FFA15A",
           "#19d3f3",
           "#FF6692",
           "#B6E880",
           "#FF97FF",
           "#FECB52"
          ],
          "font": {
           "color": "#2a3f5f"
          },
          "geo": {
           "bgcolor": "white",
           "lakecolor": "white",
           "landcolor": "white",
           "showlakes": true,
           "showland": true,
           "subunitcolor": "#C8D4E3"
          },
          "hoverlabel": {
           "align": "left"
          },
          "hovermode": "closest",
          "mapbox": {
           "style": "light"
          },
          "paper_bgcolor": "white",
          "plot_bgcolor": "white",
          "polar": {
           "angularaxis": {
            "gridcolor": "#EBF0F8",
            "linecolor": "#EBF0F8",
            "ticks": ""
           },
           "bgcolor": "white",
           "radialaxis": {
            "gridcolor": "#EBF0F8",
            "linecolor": "#EBF0F8",
            "ticks": ""
           }
          },
          "scene": {
           "xaxis": {
            "backgroundcolor": "white",
            "gridcolor": "#DFE8F3",
            "gridwidth": 2,
            "linecolor": "#EBF0F8",
            "showbackground": true,
            "ticks": "",
            "zerolinecolor": "#EBF0F8"
           },
           "yaxis": {
            "backgroundcolor": "white",
            "gridcolor": "#DFE8F3",
            "gridwidth": 2,
            "linecolor": "#EBF0F8",
            "showbackground": true,
            "ticks": "",
            "zerolinecolor": "#EBF0F8"
           },
           "zaxis": {
            "backgroundcolor": "white",
            "gridcolor": "#DFE8F3",
            "gridwidth": 2,
            "linecolor": "#EBF0F8",
            "showbackground": true,
            "ticks": "",
            "zerolinecolor": "#EBF0F8"
           }
          },
          "shapedefaults": {
           "line": {
            "color": "#2a3f5f"
           }
          },
          "ternary": {
           "aaxis": {
            "gridcolor": "#DFE8F3",
            "linecolor": "#A2B1C6",
            "ticks": ""
           },
           "baxis": {
            "gridcolor": "#DFE8F3",
            "linecolor": "#A2B1C6",
            "ticks": ""
           },
           "bgcolor": "white",
           "caxis": {
            "gridcolor": "#DFE8F3",
            "linecolor": "#A2B1C6",
            "ticks": ""
           }
          },
          "title": {
           "x": 0.05
          },
          "xaxis": {
           "automargin": true,
           "gridcolor": "#EBF0F8",
           "linecolor": "#EBF0F8",
           "ticks": "",
           "title": {
            "standoff": 15
           },
           "zerolinecolor": "#EBF0F8",
           "zerolinewidth": 2
          },
          "yaxis": {
           "automargin": true,
           "gridcolor": "#EBF0F8",
           "linecolor": "#EBF0F8",
           "ticks": "",
           "title": {
            "standoff": 15
           },
           "zerolinecolor": "#EBF0F8",
           "zerolinewidth": 2
          }
         }
        },
        "title": {
         "text": "PCA plot (20000 Genes)",
         "x": 0.45
        },
        "width": 600,
        "xaxis": {
         "anchor": "y",
         "domain": [
          0,
          1
         ],
         "dtick": 4,
         "gridcolor": "#E8E8E8",
         "gridwidth": 2,
         "linecolor": "black",
         "linewidth": 2,
         "mirror": true,
         "range": [
          -73.20526827175331,
          76.84908161246332
         ],
         "showgrid": true,
         "showline": true,
         "title": {
          "text": "PC1 (73.17%)"
         },
         "zerolinecolor": "#E8E8E8",
         "zerolinewidth": 2
        },
        "yaxis": {
         "anchor": "x",
         "domain": [
          0,
          1
         ],
         "dtick": 4,
         "gridcolor": "#E8E8E8",
         "gridwidth": 2,
         "linecolor": "black",
         "linewidth": 2,
         "mirror": true,
         "range": [
          -36.09758603673641,
          39.93269890781264
         ],
         "showgrid": true,
         "showline": true,
         "title": {
          "text": "PC2 (5.94%)"
         },
         "zerolinecolor": "#E8E8E8",
         "zerolinewidth": 2
        }
       }
      }
     },
     "metadata": {},
     "output_type": "display_data"
    },
    {
     "data": {
      "application/vnd.plotly.v1+json": {
       "config": {
        "plotlyServerURL": "https://plot.ly"
       },
       "data": [
        {
         "customdata": [
          [
           "sorted_bam_files/Donor1-10-D8A-1A_sorted.bam"
          ],
          [
           "sorted_bam_files/Donor1-11-D8A-1B_sorted.bam"
          ],
          [
           "sorted_bam_files/Donor1-12-D8A-1C_sorted.bam"
          ],
          [
           "sorted_bam_files/Donor1-13-D8C-Ctrl_sorted.bam"
          ],
          [
           "sorted_bam_files/Donor1-14-D8C-1A_sorted.bam"
          ],
          [
           "sorted_bam_files/Donor1-15-D8C-1B_sorted.bam"
          ],
          [
           "sorted_bam_files/Donor1-16-D8C-1C_sorted.bam"
          ],
          [
           "sorted_bam_files/Donor1-1-D8A-Ctrl_sorted.bam"
          ],
          [
           "sorted_bam_files/Donor1-2-D8A-1A_sorted.bam"
          ],
          [
           "sorted_bam_files/Donor1-3-D8A-1B_sorted.bam"
          ],
          [
           "sorted_bam_files/Donor1-4-D8A-1C_sorted.bam"
          ],
          [
           "sorted_bam_files/Donor1-5-D8C-Ctrl_sorted.bam"
          ],
          [
           "sorted_bam_files/Donor1-6-D8C-1A_sorted.bam"
          ],
          [
           "sorted_bam_files/Donor1-7-D8C-1B_sorted.bam"
          ],
          [
           "sorted_bam_files/Donor1-8-D8C-1C_sorted.bam"
          ],
          [
           "sorted_bam_files/Donor1-9-D8A-Ctrl_sorted.bam"
          ],
          [
           "sorted_bam_files/Donor2-10-D8A-1A_sorted.bam"
          ],
          [
           "sorted_bam_files/Donor2-11-D8A-1B_sorted.bam"
          ],
          [
           "sorted_bam_files/Donor2-12-D8A-1C_sorted.bam"
          ],
          [
           "sorted_bam_files/Donor2-13-D8C-Ctrl_sorted.bam"
          ],
          [
           "sorted_bam_files/Donor2-14-D8C-1A_sorted.bam"
          ],
          [
           "sorted_bam_files/Donor2-15-D8C-1B_sorted.bam"
          ],
          [
           "sorted_bam_files/Donor2-16-D8C-1C_sorted.bam"
          ],
          [
           "sorted_bam_files/Donor2-1-D8A-Ctrl_sorted.bam"
          ],
          [
           "sorted_bam_files/Donor2-2-D8A-1A_sorted.bam"
          ],
          [
           "sorted_bam_files/Donor2-3-D8A-1B_sorted.bam"
          ],
          [
           "sorted_bam_files/Donor2-4-D8A-1C_sorted.bam"
          ],
          [
           "sorted_bam_files/Donor2-5-D8C-Ctrl_sorted.bam"
          ],
          [
           "sorted_bam_files/Donor2-6-D8C-1A_sorted.bam"
          ],
          [
           "sorted_bam_files/Donor2-7-D8C-1B_sorted.bam"
          ],
          [
           "sorted_bam_files/Donor2-8-D8C-1C_sorted.bam"
          ],
          [
           "sorted_bam_files/Donor2-9-D8A-Ctrl_sorted.bam"
          ],
          [
           "sorted_bam_files/Donor3-10-D8A-1A_sorted.bam"
          ],
          [
           "sorted_bam_files/Donor3-11-D8A-1B_sorted.bam"
          ],
          [
           "sorted_bam_files/Donor3-12-D8A-1C_sorted.bam"
          ],
          [
           "sorted_bam_files/Donor3-13-D8C-Ctrl_sorted.bam"
          ],
          [
           "sorted_bam_files/Donor3-14-D8C-1A_sorted.bam"
          ],
          [
           "sorted_bam_files/Donor3-15-D8C-1B_sorted.bam"
          ],
          [
           "sorted_bam_files/Donor3-16-D8C-1C_sorted.bam"
          ],
          [
           "sorted_bam_files/Donor3-1-D8A-Ctrl_sorted.bam"
          ],
          [
           "sorted_bam_files/Donor3-2-D8A-1A_sorted.bam"
          ],
          [
           "sorted_bam_files/Donor3-3-D8A-1B_sorted.bam"
          ],
          [
           "sorted_bam_files/Donor3-4-D8A-1C_sorted.bam"
          ],
          [
           "sorted_bam_files/Donor3-5-D8C-Ctrl_sorted.bam"
          ],
          [
           "sorted_bam_files/Donor3-6-D8C-1A_sorted.bam"
          ],
          [
           "sorted_bam_files/Donor3-7-D8C-1B_sorted.bam"
          ],
          [
           "sorted_bam_files/Donor3-8-D8C-1C_sorted.bam"
          ],
          [
           "sorted_bam_files/Donor3-9-D8A-Ctrl_sorted.bam"
          ]
         ],
         "hovertemplate": "condition=b<br>PC1 (73.17%)=%{x}<br>PC2 (5.94%)=%{y}<br>sample_name=%{customdata[0]}<extra></extra>",
         "legendgroup": "b",
         "marker": {
          "color": "#19d3f3",
          "size": 12,
          "symbol": "circle"
         },
         "mode": "markers",
         "name": "b",
         "orientation": "v",
         "showlegend": true,
         "type": "scatter",
         "x": [
          -70.25221899579388,
          -71.20526827175331,
          -70.48373755380203,
          69.89632089292897,
          68.30243499873774,
          69.82374491152923,
          59.69343655713947,
          -69.76159064592686,
          -70.59627934279602,
          -70.63738942006897,
          -70.49817246820662,
          69.44484821393229,
          70.83668419507352,
          70.12221620570858,
          66.1505516343221,
          -70.75966574631455,
          -70.18957552791161,
          -70.14261106619539,
          -62.362307956152286,
          68.45339317698307,
          67.96558580994706,
          69.3535960584349,
          68.26588700362308,
          -70.37647552152359,
          -70.03443442249733,
          -70.88189769098464,
          -70.75804944720181,
          68.56683015249813,
          69.7801154005961,
          69.06996271213097,
          67.91478037721463,
          -68.44698916480743,
          -70.86534000125762,
          -68.64843651611665,
          -69.30063080065123,
          74.1367936372447,
          73.22078055799147,
          73.23850996643677,
          73.72944668889454,
          -68.03578533944228,
          -68.26838845899924,
          -69.35554305038475,
          -67.91054574058596,
          74.84908161246332,
          57.99994875643713,
          72.3788423770077,
          73.9383573498039,
          -67.3608160977053
         ],
         "xaxis": "x",
         "y": [
          19.605551784845346,
          20.649851311560237,
          18.233408030818552,
          26.75467027151058,
          32.88815053615381,
          29.553873005738808,
          37.93269890781264,
          19.555491144947545,
          19.3308172048203,
          18.446796610479154,
          17.918288032181582,
          26.26306928369441,
          23.764898405700627,
          28.2513208207114,
          35.23865488439014,
          20.40928860863626,
          -14.791402770463426,
          -16.120028802316064,
          -16.58111929772136,
          -34.09758603673641,
          -30.989316215684685,
          -24.97003852697186,
          -16.15219393592362,
          -13.048830695876974,
          -16.68532300513202,
          -16.711078475461196,
          -16.430958492088855,
          -30.784419084864524,
          -23.599966149149115,
          -25.935292950428344,
          -15.674904874043449,
          -14.39838015728866,
          -5.517596540814631,
          -5.718847525949761,
          -3.7048083654388186,
          -8.56845899553407,
          -0.2480423059502433,
          -4.832032005889051,
          -7.935464839223133,
          -4.014660134771613,
          -5.389521707570474,
          -3.8937026460193422,
          -4.728703641292077,
          -22.393380496378562,
          15.546438412113535,
          -1.320999172141614,
          -1.9808177476572335,
          -3.1253916613337616
         ],
         "yaxis": "y"
        }
       ],
       "layout": {
        "annotations": [
         {
          "arrowcolor": "red",
          "arrowhead": 3,
          "arrowside": "start",
          "arrowsize": 1,
          "arrowwidth": 1,
          "ax": 0.4263029603593354,
          "axref": "x",
          "ay": 5.216984246541467,
          "ayref": "y",
          "opacity": 0.6,
          "showarrow": true,
          "text": "ALDH7A1",
          "x": 0,
          "xref": "x",
          "y": 0,
          "yref": "y"
         },
         {
          "arrowcolor": "red",
          "arrowhead": 3,
          "arrowside": "start",
          "arrowsize": 1,
          "arrowwidth": 1,
          "ax": 0.13314876084455365,
          "axref": "x",
          "ay": 4.6540076966028545,
          "ayref": "y",
          "opacity": 0.6,
          "showarrow": true,
          "text": "ANKRD18A",
          "x": 0,
          "xref": "x",
          "y": 0,
          "yref": "y"
         },
         {
          "arrowcolor": "red",
          "arrowhead": 3,
          "arrowside": "start",
          "arrowsize": 1,
          "arrowwidth": 1,
          "ax": -5.229391348294671,
          "axref": "x",
          "ay": -1.3865441370667886,
          "ayref": "y",
          "opacity": 0.6,
          "showarrow": true,
          "text": "CCR2",
          "x": 0,
          "xref": "x",
          "y": 0,
          "yref": "y"
         },
         {
          "arrowcolor": "red",
          "arrowhead": 3,
          "arrowside": "start",
          "arrowsize": 1,
          "arrowwidth": 1,
          "ax": -4.776489421787868,
          "axref": "x",
          "ay": -0.42315220957715866,
          "ayref": "y",
          "opacity": 0.6,
          "showarrow": true,
          "text": "CCR5",
          "x": 0,
          "xref": "x",
          "y": 0,
          "yref": "y"
         },
         {
          "arrowcolor": "red",
          "arrowhead": 3,
          "arrowside": "start",
          "arrowsize": 1,
          "arrowwidth": 1,
          "ax": 0.28522305687199473,
          "axref": "x",
          "ay": -4.300872440271519,
          "ayref": "y",
          "opacity": 0.6,
          "showarrow": true,
          "text": "CCR8",
          "x": 0,
          "xref": "x",
          "y": 0,
          "yref": "y"
         },
         {
          "arrowcolor": "red",
          "arrowhead": 3,
          "arrowside": "start",
          "arrowsize": 1,
          "arrowwidth": 1,
          "ax": -2.916847474324045,
          "axref": "x",
          "ay": -5.237856888932184,
          "ayref": "y",
          "opacity": 0.6,
          "showarrow": true,
          "text": "CD300A",
          "x": 0,
          "xref": "x",
          "y": 0,
          "yref": "y"
         },
         {
          "arrowcolor": "red",
          "arrowhead": 3,
          "arrowside": "start",
          "arrowsize": 1,
          "arrowwidth": 1,
          "ax": 5.39434316467024,
          "axref": "x",
          "ay": 0.5304472073160796,
          "ayref": "y",
          "opacity": 0.6,
          "showarrow": true,
          "text": "COL6A3",
          "x": 0,
          "xref": "x",
          "y": 0,
          "yref": "y"
         },
         {
          "arrowcolor": "red",
          "arrowhead": 3,
          "arrowside": "start",
          "arrowsize": 1,
          "arrowwidth": 1,
          "ax": 5.554460001439624,
          "axref": "x",
          "ay": -0.9256764932529835,
          "ayref": "y",
          "opacity": 0.6,
          "showarrow": true,
          "text": "DGKI",
          "x": 0,
          "xref": "x",
          "y": 0,
          "yref": "y"
         },
         {
          "arrowcolor": "red",
          "arrowhead": 3,
          "arrowside": "start",
          "arrowsize": 1,
          "arrowwidth": 1,
          "ax": 4.704187797761735,
          "axref": "x",
          "ay": 0.24179746329186239,
          "ayref": "y",
          "opacity": 0.6,
          "showarrow": true,
          "text": "EVI5",
          "x": 0,
          "xref": "x",
          "y": 0,
          "yref": "y"
         },
         {
          "arrowcolor": "red",
          "arrowhead": 3,
          "arrowside": "start",
          "arrowsize": 1,
          "arrowwidth": 1,
          "ax": 1.2096543093047667,
          "axref": "x",
          "ay": 7.864178436585494,
          "ayref": "y",
          "opacity": 0.6,
          "showarrow": true,
          "text": "GPNMB",
          "x": 0,
          "xref": "x",
          "y": 0,
          "yref": "y"
         },
         {
          "arrowcolor": "red",
          "arrowhead": 3,
          "arrowside": "start",
          "arrowsize": 1,
          "arrowwidth": 1,
          "ax": -3.859356709406267,
          "axref": "x",
          "ay": -1.9208703383356405,
          "ayref": "y",
          "opacity": 0.6,
          "showarrow": true,
          "text": "HKDC1",
          "x": 0,
          "xref": "x",
          "y": 0,
          "yref": "y"
         },
         {
          "arrowcolor": "red",
          "arrowhead": 3,
          "arrowside": "start",
          "arrowsize": 1,
          "arrowwidth": 1,
          "ax": -0.33948157777547033,
          "axref": "x",
          "ay": 9.61419083790762,
          "ayref": "y",
          "opacity": 0.6,
          "showarrow": true,
          "text": "HLA-A",
          "x": 0,
          "xref": "x",
          "y": 0,
          "yref": "y"
         },
         {
          "arrowcolor": "red",
          "arrowhead": 3,
          "arrowside": "start",
          "arrowsize": 1,
          "arrowwidth": 1,
          "ax": -0.9241472528934649,
          "axref": "x",
          "ay": -7.014979472265884,
          "ayref": "y",
          "opacity": 0.6,
          "showarrow": true,
          "text": "HLA-DRB1",
          "x": 0,
          "xref": "x",
          "y": 0,
          "yref": "y"
         },
         {
          "arrowcolor": "red",
          "arrowhead": 3,
          "arrowside": "start",
          "arrowsize": 1,
          "arrowwidth": 1,
          "ax": -0.30505196428907955,
          "axref": "x",
          "ay": 7.786837012401794,
          "ayref": "y",
          "opacity": 0.6,
          "showarrow": true,
          "text": "HLA-H",
          "x": 0,
          "xref": "x",
          "y": 0,
          "yref": "y"
         },
         {
          "arrowcolor": "red",
          "arrowhead": 3,
          "arrowside": "start",
          "arrowsize": 1,
          "arrowwidth": 1,
          "ax": 4.285696721699191,
          "axref": "x",
          "ay": -0.07953566576213685,
          "ayref": "y",
          "opacity": 0.6,
          "showarrow": true,
          "text": "HLF",
          "x": 0,
          "xref": "x",
          "y": 0,
          "yref": "y"
         },
         {
          "arrowcolor": "red",
          "arrowhead": 3,
          "arrowside": "start",
          "arrowsize": 1,
          "arrowwidth": 1,
          "ax": 4.640698591840812,
          "axref": "x",
          "ay": -0.27780937456526317,
          "ayref": "y",
          "opacity": 0.6,
          "showarrow": true,
          "text": "IL23R",
          "x": 0,
          "xref": "x",
          "y": 0,
          "yref": "y"
         },
         {
          "arrowcolor": "red",
          "arrowhead": 3,
          "arrowside": "start",
          "arrowsize": 1,
          "arrowwidth": 1,
          "ax": -3.949531303069584,
          "axref": "x",
          "ay": -1.6051077651538013,
          "ayref": "y",
          "opacity": 0.6,
          "showarrow": true,
          "text": "KLF2",
          "x": 0,
          "xref": "x",
          "y": 0,
          "yref": "y"
         },
         {
          "arrowcolor": "red",
          "arrowhead": 3,
          "arrowside": "start",
          "arrowsize": 1,
          "arrowwidth": 1,
          "ax": 0.13227241143801188,
          "axref": "x",
          "ay": 5.040118821392168,
          "ayref": "y",
          "opacity": 0.6,
          "showarrow": true,
          "text": "LRRC66",
          "x": 0,
          "xref": "x",
          "y": 0,
          "yref": "y"
         },
         {
          "arrowcolor": "red",
          "arrowhead": 3,
          "arrowside": "start",
          "arrowsize": 1,
          "arrowwidth": 1,
          "ax": 0.2482419767540684,
          "axref": "x",
          "ay": 8.09751302783259,
          "ayref": "y",
          "opacity": 0.6,
          "showarrow": true,
          "text": "MSH5",
          "x": 0,
          "xref": "x",
          "y": 0,
          "yref": "y"
         },
         {
          "arrowcolor": "red",
          "arrowhead": 3,
          "arrowside": "start",
          "arrowsize": 1,
          "arrowwidth": 1,
          "ax": -4.157531037825102,
          "axref": "x",
          "ay": -0.029819142954260854,
          "ayref": "y",
          "opacity": 0.6,
          "showarrow": true,
          "text": "NFILZ",
          "x": 0,
          "xref": "x",
          "y": 0,
          "yref": "y"
         },
         {
          "arrowcolor": "red",
          "arrowhead": 3,
          "arrowside": "start",
          "arrowsize": 1,
          "arrowwidth": 1,
          "ax": -5.5208612255313,
          "axref": "x",
          "ay": 2.820981975836245,
          "ayref": "y",
          "opacity": 0.6,
          "showarrow": true,
          "text": "NPTX1",
          "x": 0,
          "xref": "x",
          "y": 0,
          "yref": "y"
         },
         {
          "arrowcolor": "red",
          "arrowhead": 3,
          "arrowside": "start",
          "arrowsize": 1,
          "arrowwidth": 1,
          "ax": -3.776813039826007,
          "axref": "x",
          "ay": 0.22098569490925174,
          "ayref": "y",
          "opacity": 0.6,
          "showarrow": true,
          "text": "NSG1",
          "x": 0,
          "xref": "x",
          "y": 0,
          "yref": "y"
         },
         {
          "arrowcolor": "red",
          "arrowhead": 3,
          "arrowside": "start",
          "arrowsize": 1,
          "arrowwidth": 1,
          "ax": 0.4673396041833099,
          "axref": "x",
          "ay": -4.30647825136627,
          "ayref": "y",
          "opacity": 0.6,
          "showarrow": true,
          "text": "ORM2",
          "x": 0,
          "xref": "x",
          "y": 0,
          "yref": "y"
         },
         {
          "arrowcolor": "red",
          "arrowhead": 3,
          "arrowside": "start",
          "arrowsize": 1,
          "arrowwidth": 1,
          "ax": 5.01361904461847,
          "axref": "x",
          "ay": 0.25922113125832924,
          "ayref": "y",
          "opacity": 0.6,
          "showarrow": true,
          "text": "PHEX",
          "x": 0,
          "xref": "x",
          "y": 0,
          "yref": "y"
         },
         {
          "arrowcolor": "red",
          "arrowhead": 3,
          "arrowside": "start",
          "arrowsize": 1,
          "arrowwidth": 1,
          "ax": 2.1111807725584697,
          "axref": "x",
          "ay": 6.063771263417489,
          "ayref": "y",
          "opacity": 0.6,
          "showarrow": true,
          "text": "PLA2G4C",
          "x": 0,
          "xref": "x",
          "y": 0,
          "yref": "y"
         },
         {
          "arrowcolor": "red",
          "arrowhead": 3,
          "arrowside": "start",
          "arrowsize": 1,
          "arrowwidth": 1,
          "ax": -0.45381683744791645,
          "axref": "x",
          "ay": -6.161245799593952,
          "ayref": "y",
          "opacity": 0.6,
          "showarrow": true,
          "text": "PLEKHM1",
          "x": 0,
          "xref": "x",
          "y": 0,
          "yref": "y"
         },
         {
          "arrowcolor": "red",
          "arrowhead": 3,
          "arrowside": "start",
          "arrowsize": 1,
          "arrowwidth": 1,
          "ax": -3.956236747057992,
          "axref": "x",
          "ay": 1.146321806194098,
          "ayref": "y",
          "opacity": 0.6,
          "showarrow": true,
          "text": "PLXDC1",
          "x": 0,
          "xref": "x",
          "y": 0,
          "yref": "y"
         },
         {
          "arrowcolor": "red",
          "arrowhead": 3,
          "arrowside": "start",
          "arrowsize": 1,
          "arrowwidth": 1,
          "ax": 5.2207420453548306,
          "axref": "x",
          "ay": -0.2084573987915014,
          "ayref": "y",
          "opacity": 0.6,
          "showarrow": true,
          "text": "POU2AF1",
          "x": 0,
          "xref": "x",
          "y": 0,
          "yref": "y"
         },
         {
          "arrowcolor": "red",
          "arrowhead": 3,
          "arrowside": "start",
          "arrowsize": 1,
          "arrowwidth": 1,
          "ax": -4.375105874947854,
          "axref": "x",
          "ay": 0.1762763893274648,
          "ayref": "y",
          "opacity": 0.6,
          "showarrow": true,
          "text": "PTGER2",
          "x": 0,
          "xref": "x",
          "y": 0,
          "yref": "y"
         },
         {
          "arrowcolor": "red",
          "arrowhead": 3,
          "arrowside": "start",
          "arrowsize": 1,
          "arrowwidth": 1,
          "ax": -0.015638865463416918,
          "axref": "x",
          "ay": 5.810542304085947,
          "ayref": "y",
          "opacity": 0.6,
          "showarrow": true,
          "text": "PXDN",
          "x": 0,
          "xref": "x",
          "y": 0,
          "yref": "y"
         },
         {
          "arrowcolor": "red",
          "arrowhead": 3,
          "arrowside": "start",
          "arrowsize": 1,
          "arrowwidth": 1,
          "ax": -0.30055992015843647,
          "axref": "x",
          "ay": -4.7594570805382554,
          "ayref": "y",
          "opacity": 0.6,
          "showarrow": true,
          "text": "RAMP1",
          "x": 0,
          "xref": "x",
          "y": 0,
          "yref": "y"
         },
         {
          "arrowcolor": "red",
          "arrowhead": 3,
          "arrowside": "start",
          "arrowsize": 1,
          "arrowwidth": 1,
          "ax": 0.27184983151450864,
          "axref": "x",
          "ay": -10.038523917314109,
          "ayref": "y",
          "opacity": 0.6,
          "showarrow": true,
          "text": "RGPD4",
          "x": 0,
          "xref": "x",
          "y": 0,
          "yref": "y"
         },
         {
          "arrowcolor": "red",
          "arrowhead": 3,
          "arrowside": "start",
          "arrowsize": 1,
          "arrowwidth": 1,
          "ax": -4.7795670396253085,
          "axref": "x",
          "ay": -0.8668407039793259,
          "ayref": "y",
          "opacity": 0.6,
          "showarrow": true,
          "text": "SAMD3",
          "x": 0,
          "xref": "x",
          "y": 0,
          "yref": "y"
         },
         {
          "arrowcolor": "red",
          "arrowhead": 3,
          "arrowside": "start",
          "arrowsize": 1,
          "arrowwidth": 1,
          "ax": 4.676294495717862,
          "axref": "x",
          "ay": 1.3492637525054108,
          "ayref": "y",
          "opacity": 0.6,
          "showarrow": true,
          "text": "SHC4",
          "x": 0,
          "xref": "x",
          "y": 0,
          "yref": "y"
         },
         {
          "arrowcolor": "red",
          "arrowhead": 3,
          "arrowside": "start",
          "arrowsize": 1,
          "arrowwidth": 1,
          "ax": 1.5072716867988547,
          "axref": "x",
          "ay": -4.166350643944936,
          "ayref": "y",
          "opacity": 0.6,
          "showarrow": true,
          "text": "TMEM236",
          "x": 0,
          "xref": "x",
          "y": 0,
          "yref": "y"
         },
         {
          "arrowcolor": "red",
          "arrowhead": 3,
          "arrowside": "start",
          "arrowsize": 1,
          "arrowwidth": 1,
          "ax": -1.4540307492733926,
          "axref": "x",
          "ay": 6.757158996235564,
          "ayref": "y",
          "opacity": 0.6,
          "showarrow": true,
          "text": "TRPM2",
          "x": 0,
          "xref": "x",
          "y": 0,
          "yref": "y"
         },
         {
          "arrowcolor": "red",
          "arrowhead": 3,
          "arrowside": "start",
          "arrowsize": 1,
          "arrowwidth": 1,
          "ax": 4.285023857111809,
          "axref": "x",
          "ay": 1.505585820058305,
          "ayref": "y",
          "opacity": 0.6,
          "showarrow": true,
          "text": "TSHZ2",
          "x": 0,
          "xref": "x",
          "y": 0,
          "yref": "y"
         },
         {
          "arrowcolor": "red",
          "arrowhead": 3,
          "arrowside": "start",
          "arrowsize": 1,
          "arrowwidth": 1,
          "ax": 2.6348597274228074,
          "axref": "x",
          "ay": -4.101419745750211,
          "ayref": "y",
          "opacity": 0.6,
          "showarrow": true,
          "text": "TSPAN33",
          "x": 0,
          "xref": "x",
          "y": 0,
          "yref": "y"
         },
         {
          "arrowcolor": "red",
          "arrowhead": 3,
          "arrowside": "start",
          "arrowsize": 1,
          "arrowwidth": 1,
          "ax": 4.567519957374883,
          "axref": "x",
          "ay": 0.5925393745173682,
          "ayref": "y",
          "opacity": 0.6,
          "showarrow": true,
          "text": "ZBED2",
          "x": 0,
          "xref": "x",
          "y": 0,
          "yref": "y"
         },
         {
          "arrowcolor": "red",
          "arrowhead": 3,
          "arrowside": "start",
          "arrowsize": 1,
          "arrowwidth": 1,
          "ax": -0.42360458882108815,
          "axref": "x",
          "ay": -4.265137527525432,
          "ayref": "y",
          "opacity": 0.6,
          "showarrow": true,
          "text": "ZNF117",
          "x": 0,
          "xref": "x",
          "y": 0,
          "yref": "y"
         }
        ],
        "font": {
         "color": "black",
         "family": "Arial"
        },
        "height": 500,
        "legend": {
         "title": {
          "text": "Condition"
         },
         "tracegroupgap": 0
        },
        "showlegend": true,
        "template": {
         "data": {
          "bar": [
           {
            "error_x": {
             "color": "#2a3f5f"
            },
            "error_y": {
             "color": "#2a3f5f"
            },
            "marker": {
             "line": {
              "color": "white",
              "width": 0.5
             },
             "pattern": {
              "fillmode": "overlay",
              "size": 10,
              "solidity": 0.2
             }
            },
            "type": "bar"
           }
          ],
          "barpolar": [
           {
            "marker": {
             "line": {
              "color": "white",
              "width": 0.5
             },
             "pattern": {
              "fillmode": "overlay",
              "size": 10,
              "solidity": 0.2
             }
            },
            "type": "barpolar"
           }
          ],
          "carpet": [
           {
            "aaxis": {
             "endlinecolor": "#2a3f5f",
             "gridcolor": "#C8D4E3",
             "linecolor": "#C8D4E3",
             "minorgridcolor": "#C8D4E3",
             "startlinecolor": "#2a3f5f"
            },
            "baxis": {
             "endlinecolor": "#2a3f5f",
             "gridcolor": "#C8D4E3",
             "linecolor": "#C8D4E3",
             "minorgridcolor": "#C8D4E3",
             "startlinecolor": "#2a3f5f"
            },
            "type": "carpet"
           }
          ],
          "choropleth": [
           {
            "colorbar": {
             "outlinewidth": 0,
             "ticks": ""
            },
            "type": "choropleth"
           }
          ],
          "contour": [
           {
            "colorbar": {
             "outlinewidth": 0,
             "ticks": ""
            },
            "colorscale": [
             [
              0,
              "#0d0887"
             ],
             [
              0.1111111111111111,
              "#46039f"
             ],
             [
              0.2222222222222222,
              "#7201a8"
             ],
             [
              0.3333333333333333,
              "#9c179e"
             ],
             [
              0.4444444444444444,
              "#bd3786"
             ],
             [
              0.5555555555555556,
              "#d8576b"
             ],
             [
              0.6666666666666666,
              "#ed7953"
             ],
             [
              0.7777777777777778,
              "#fb9f3a"
             ],
             [
              0.8888888888888888,
              "#fdca26"
             ],
             [
              1,
              "#f0f921"
             ]
            ],
            "type": "contour"
           }
          ],
          "contourcarpet": [
           {
            "colorbar": {
             "outlinewidth": 0,
             "ticks": ""
            },
            "type": "contourcarpet"
           }
          ],
          "heatmap": [
           {
            "colorbar": {
             "outlinewidth": 0,
             "ticks": ""
            },
            "colorscale": [
             [
              0,
              "#0d0887"
             ],
             [
              0.1111111111111111,
              "#46039f"
             ],
             [
              0.2222222222222222,
              "#7201a8"
             ],
             [
              0.3333333333333333,
              "#9c179e"
             ],
             [
              0.4444444444444444,
              "#bd3786"
             ],
             [
              0.5555555555555556,
              "#d8576b"
             ],
             [
              0.6666666666666666,
              "#ed7953"
             ],
             [
              0.7777777777777778,
              "#fb9f3a"
             ],
             [
              0.8888888888888888,
              "#fdca26"
             ],
             [
              1,
              "#f0f921"
             ]
            ],
            "type": "heatmap"
           }
          ],
          "heatmapgl": [
           {
            "colorbar": {
             "outlinewidth": 0,
             "ticks": ""
            },
            "colorscale": [
             [
              0,
              "#0d0887"
             ],
             [
              0.1111111111111111,
              "#46039f"
             ],
             [
              0.2222222222222222,
              "#7201a8"
             ],
             [
              0.3333333333333333,
              "#9c179e"
             ],
             [
              0.4444444444444444,
              "#bd3786"
             ],
             [
              0.5555555555555556,
              "#d8576b"
             ],
             [
              0.6666666666666666,
              "#ed7953"
             ],
             [
              0.7777777777777778,
              "#fb9f3a"
             ],
             [
              0.8888888888888888,
              "#fdca26"
             ],
             [
              1,
              "#f0f921"
             ]
            ],
            "type": "heatmapgl"
           }
          ],
          "histogram": [
           {
            "marker": {
             "pattern": {
              "fillmode": "overlay",
              "size": 10,
              "solidity": 0.2
             }
            },
            "type": "histogram"
           }
          ],
          "histogram2d": [
           {
            "colorbar": {
             "outlinewidth": 0,
             "ticks": ""
            },
            "colorscale": [
             [
              0,
              "#0d0887"
             ],
             [
              0.1111111111111111,
              "#46039f"
             ],
             [
              0.2222222222222222,
              "#7201a8"
             ],
             [
              0.3333333333333333,
              "#9c179e"
             ],
             [
              0.4444444444444444,
              "#bd3786"
             ],
             [
              0.5555555555555556,
              "#d8576b"
             ],
             [
              0.6666666666666666,
              "#ed7953"
             ],
             [
              0.7777777777777778,
              "#fb9f3a"
             ],
             [
              0.8888888888888888,
              "#fdca26"
             ],
             [
              1,
              "#f0f921"
             ]
            ],
            "type": "histogram2d"
           }
          ],
          "histogram2dcontour": [
           {
            "colorbar": {
             "outlinewidth": 0,
             "ticks": ""
            },
            "colorscale": [
             [
              0,
              "#0d0887"
             ],
             [
              0.1111111111111111,
              "#46039f"
             ],
             [
              0.2222222222222222,
              "#7201a8"
             ],
             [
              0.3333333333333333,
              "#9c179e"
             ],
             [
              0.4444444444444444,
              "#bd3786"
             ],
             [
              0.5555555555555556,
              "#d8576b"
             ],
             [
              0.6666666666666666,
              "#ed7953"
             ],
             [
              0.7777777777777778,
              "#fb9f3a"
             ],
             [
              0.8888888888888888,
              "#fdca26"
             ],
             [
              1,
              "#f0f921"
             ]
            ],
            "type": "histogram2dcontour"
           }
          ],
          "mesh3d": [
           {
            "colorbar": {
             "outlinewidth": 0,
             "ticks": ""
            },
            "type": "mesh3d"
           }
          ],
          "parcoords": [
           {
            "line": {
             "colorbar": {
              "outlinewidth": 0,
              "ticks": ""
             }
            },
            "type": "parcoords"
           }
          ],
          "pie": [
           {
            "automargin": true,
            "type": "pie"
           }
          ],
          "scatter": [
           {
            "fillpattern": {
             "fillmode": "overlay",
             "size": 10,
             "solidity": 0.2
            },
            "type": "scatter"
           }
          ],
          "scatter3d": [
           {
            "line": {
             "colorbar": {
              "outlinewidth": 0,
              "ticks": ""
             }
            },
            "marker": {
             "colorbar": {
              "outlinewidth": 0,
              "ticks": ""
             }
            },
            "type": "scatter3d"
           }
          ],
          "scattercarpet": [
           {
            "marker": {
             "colorbar": {
              "outlinewidth": 0,
              "ticks": ""
             }
            },
            "type": "scattercarpet"
           }
          ],
          "scattergeo": [
           {
            "marker": {
             "colorbar": {
              "outlinewidth": 0,
              "ticks": ""
             }
            },
            "type": "scattergeo"
           }
          ],
          "scattergl": [
           {
            "marker": {
             "colorbar": {
              "outlinewidth": 0,
              "ticks": ""
             }
            },
            "type": "scattergl"
           }
          ],
          "scattermapbox": [
           {
            "marker": {
             "colorbar": {
              "outlinewidth": 0,
              "ticks": ""
             }
            },
            "type": "scattermapbox"
           }
          ],
          "scatterpolar": [
           {
            "marker": {
             "colorbar": {
              "outlinewidth": 0,
              "ticks": ""
             }
            },
            "type": "scatterpolar"
           }
          ],
          "scatterpolargl": [
           {
            "marker": {
             "colorbar": {
              "outlinewidth": 0,
              "ticks": ""
             }
            },
            "type": "scatterpolargl"
           }
          ],
          "scatterternary": [
           {
            "marker": {
             "colorbar": {
              "outlinewidth": 0,
              "ticks": ""
             }
            },
            "type": "scatterternary"
           }
          ],
          "surface": [
           {
            "colorbar": {
             "outlinewidth": 0,
             "ticks": ""
            },
            "colorscale": [
             [
              0,
              "#0d0887"
             ],
             [
              0.1111111111111111,
              "#46039f"
             ],
             [
              0.2222222222222222,
              "#7201a8"
             ],
             [
              0.3333333333333333,
              "#9c179e"
             ],
             [
              0.4444444444444444,
              "#bd3786"
             ],
             [
              0.5555555555555556,
              "#d8576b"
             ],
             [
              0.6666666666666666,
              "#ed7953"
             ],
             [
              0.7777777777777778,
              "#fb9f3a"
             ],
             [
              0.8888888888888888,
              "#fdca26"
             ],
             [
              1,
              "#f0f921"
             ]
            ],
            "type": "surface"
           }
          ],
          "table": [
           {
            "cells": {
             "fill": {
              "color": "#EBF0F8"
             },
             "line": {
              "color": "white"
             }
            },
            "header": {
             "fill": {
              "color": "#C8D4E3"
             },
             "line": {
              "color": "white"
             }
            },
            "type": "table"
           }
          ]
         },
         "layout": {
          "annotationdefaults": {
           "arrowcolor": "#2a3f5f",
           "arrowhead": 0,
           "arrowwidth": 1
          },
          "autotypenumbers": "strict",
          "coloraxis": {
           "colorbar": {
            "outlinewidth": 0,
            "ticks": ""
           }
          },
          "colorscale": {
           "diverging": [
            [
             0,
             "#8e0152"
            ],
            [
             0.1,
             "#c51b7d"
            ],
            [
             0.2,
             "#de77ae"
            ],
            [
             0.3,
             "#f1b6da"
            ],
            [
             0.4,
             "#fde0ef"
            ],
            [
             0.5,
             "#f7f7f7"
            ],
            [
             0.6,
             "#e6f5d0"
            ],
            [
             0.7,
             "#b8e186"
            ],
            [
             0.8,
             "#7fbc41"
            ],
            [
             0.9,
             "#4d9221"
            ],
            [
             1,
             "#276419"
            ]
           ],
           "sequential": [
            [
             0,
             "#0d0887"
            ],
            [
             0.1111111111111111,
             "#46039f"
            ],
            [
             0.2222222222222222,
             "#7201a8"
            ],
            [
             0.3333333333333333,
             "#9c179e"
            ],
            [
             0.4444444444444444,
             "#bd3786"
            ],
            [
             0.5555555555555556,
             "#d8576b"
            ],
            [
             0.6666666666666666,
             "#ed7953"
            ],
            [
             0.7777777777777778,
             "#fb9f3a"
            ],
            [
             0.8888888888888888,
             "#fdca26"
            ],
            [
             1,
             "#f0f921"
            ]
           ],
           "sequentialminus": [
            [
             0,
             "#0d0887"
            ],
            [
             0.1111111111111111,
             "#46039f"
            ],
            [
             0.2222222222222222,
             "#7201a8"
            ],
            [
             0.3333333333333333,
             "#9c179e"
            ],
            [
             0.4444444444444444,
             "#bd3786"
            ],
            [
             0.5555555555555556,
             "#d8576b"
            ],
            [
             0.6666666666666666,
             "#ed7953"
            ],
            [
             0.7777777777777778,
             "#fb9f3a"
            ],
            [
             0.8888888888888888,
             "#fdca26"
            ],
            [
             1,
             "#f0f921"
            ]
           ]
          },
          "colorway": [
           "#636efa",
           "#EF553B",
           "#00cc96",
           "#ab63fa",
           "#FFA15A",
           "#19d3f3",
           "#FF6692",
           "#B6E880",
           "#FF97FF",
           "#FECB52"
          ],
          "font": {
           "color": "#2a3f5f"
          },
          "geo": {
           "bgcolor": "white",
           "lakecolor": "white",
           "landcolor": "white",
           "showlakes": true,
           "showland": true,
           "subunitcolor": "#C8D4E3"
          },
          "hoverlabel": {
           "align": "left"
          },
          "hovermode": "closest",
          "mapbox": {
           "style": "light"
          },
          "paper_bgcolor": "white",
          "plot_bgcolor": "white",
          "polar": {
           "angularaxis": {
            "gridcolor": "#EBF0F8",
            "linecolor": "#EBF0F8",
            "ticks": ""
           },
           "bgcolor": "white",
           "radialaxis": {
            "gridcolor": "#EBF0F8",
            "linecolor": "#EBF0F8",
            "ticks": ""
           }
          },
          "scene": {
           "xaxis": {
            "backgroundcolor": "white",
            "gridcolor": "#DFE8F3",
            "gridwidth": 2,
            "linecolor": "#EBF0F8",
            "showbackground": true,
            "ticks": "",
            "zerolinecolor": "#EBF0F8"
           },
           "yaxis": {
            "backgroundcolor": "white",
            "gridcolor": "#DFE8F3",
            "gridwidth": 2,
            "linecolor": "#EBF0F8",
            "showbackground": true,
            "ticks": "",
            "zerolinecolor": "#EBF0F8"
           },
           "zaxis": {
            "backgroundcolor": "white",
            "gridcolor": "#DFE8F3",
            "gridwidth": 2,
            "linecolor": "#EBF0F8",
            "showbackground": true,
            "ticks": "",
            "zerolinecolor": "#EBF0F8"
           }
          },
          "shapedefaults": {
           "line": {
            "color": "#2a3f5f"
           }
          },
          "ternary": {
           "aaxis": {
            "gridcolor": "#DFE8F3",
            "linecolor": "#A2B1C6",
            "ticks": ""
           },
           "baxis": {
            "gridcolor": "#DFE8F3",
            "linecolor": "#A2B1C6",
            "ticks": ""
           },
           "bgcolor": "white",
           "caxis": {
            "gridcolor": "#DFE8F3",
            "linecolor": "#A2B1C6",
            "ticks": ""
           }
          },
          "title": {
           "x": 0.05
          },
          "xaxis": {
           "automargin": true,
           "gridcolor": "#EBF0F8",
           "linecolor": "#EBF0F8",
           "ticks": "",
           "title": {
            "standoff": 15
           },
           "zerolinecolor": "#EBF0F8",
           "zerolinewidth": 2
          },
          "yaxis": {
           "automargin": true,
           "gridcolor": "#EBF0F8",
           "linecolor": "#EBF0F8",
           "ticks": "",
           "title": {
            "standoff": 15
           },
           "zerolinecolor": "#EBF0F8",
           "zerolinewidth": 2
          }
         }
        },
        "title": {
         "text": "PCA plot (20000 Genes)",
         "x": 0.45
        },
        "width": 600,
        "xaxis": {
         "anchor": "y",
         "domain": [
          0,
          1
         ],
         "dtick": 4,
         "gridcolor": "#E8E8E8",
         "gridwidth": 2,
         "linecolor": "black",
         "linewidth": 2,
         "mirror": true,
         "range": [
          -73.20526827175331,
          76.84908161246332
         ],
         "showgrid": true,
         "showline": true,
         "title": {
          "text": "PC1 (73.17%)"
         },
         "zerolinecolor": "#E8E8E8",
         "zerolinewidth": 2
        },
        "yaxis": {
         "anchor": "x",
         "domain": [
          0,
          1
         ],
         "dtick": 4,
         "gridcolor": "#E8E8E8",
         "gridwidth": 2,
         "linecolor": "black",
         "linewidth": 2,
         "mirror": true,
         "range": [
          -36.09758603673641,
          39.93269890781264
         ],
         "showgrid": true,
         "showline": true,
         "title": {
          "text": "PC2 (5.94%)"
         },
         "zerolinecolor": "#E8E8E8",
         "zerolinewidth": 2
        }
       }
      }
     },
     "metadata": {},
     "output_type": "display_data"
    },
    {
     "data": {
      "text/plain": [
       "<Figure size 640x480 with 0 Axes>"
      ]
     },
     "metadata": {},
     "output_type": "display_data"
    },
    {
     "data": {
      "image/png": "[encoded data removed]",
      "text/plain": [
       "<Figure size 500x800 with 2 Axes>"
      ]
     },
     "metadata": {},
     "output_type": "display_data"
    }
   ],
   "source": [
    "# filter to protein coding genes, then filter to top 5000 highest variance genes\n",
    "results_dir = data_path / \"PCA_5000_genes\"\n",
    "results_dir.mkdir(exist_ok=True)\n",
    "df = pd.read_csv(df_path, index_col=[0], sep=\"\\t\")\n",
    "gene_id_df = pd.read_csv(\"mart_export.txt\", sep=\"\\t\")\n",
    "protein_coding_genes = gene_id_df[gene_id_df[\"Gene type\"] == \"protein_coding\"]\n",
    "gene_stable_ids = set(protein_coding_genes[\"Gene stable ID\"])\n",
    "gene_names = set(protein_coding_genes[\"Gene name\"])\n",
    "gene_synonyms = set(protein_coding_genes[\"Gene Synonym\"])\n",
    "protein_coding_counts = []\n",
    "for i,r in df.iterrows():\n",
    "    if (i in gene_stable_ids) or (i in gene_names) or (i in gene_synonyms):\n",
    "        protein_coding_counts.append(r)\n",
    "df = pd.DataFrame(protein_coding_counts)\n",
    "\n",
    "df[\"variance\"] = np.var(df, axis = 1)\n",
    "df = df.sort_values(\"variance\")\n",
    "df = df.tail(20000)\n",
    "df = df.drop([\"variance\"], axis=1)\n",
    "df.to_csv(results_dir / \"normalized_counts_5000_protein_coding_genes.csv\")\n",
    "\n",
    "\n",
    "run_and_plot_pca(df, results_dir)"
   ]
  },
  {
   "cell_type": "markdown",
   "metadata": {},
   "source": [
    "### Format data table"
   ]
  },
  {
   "cell_type": "code",
   "execution_count": 36,
   "metadata": {},
   "outputs": [],
   "source": [
    "normalized_counts = pd.read_csv(df_path, sep = \"\\t\")\n",
    "\n",
    "rename_conditions = {\"D4_Ac\": \"D4A\", \"D4_Chr\": \"D4C\", \"D8_Ac\": \"D8A\", \"D8_Chr\": \"D8C\"}\n",
    "\n",
    "formatted_colnames = []\n",
    "\n",
    "for column in normalized_counts.columns:\n",
    "    for condition, formatted_condition in rename_conditions.items():\n",
    "        column = column.replace(condition.replace(\"_\", \".\"), formatted_condition)\n",
    "    formatted_colnames.append(column)\n",
    "normalized_counts.columns = formatted_colnames\n",
    "normalized_counts.index.name = \"gene_name\"\n",
    "normalized_counts\n",
    "\n",
    "# attatch RNA-Seq data\n",
    "dgea_rnaseq_data_dir_path = pathlib.Path(\n",
    "    \"/Users/henrysanford/Dropbox @RU Dropbox/Vinogradova Laboratory/Exhaustion manuscript/02_Mass-spectrometry data/00_rnaseqdata_from_Jahan/13524/results_deseq2\"\n",
    ")\n",
    "control_condition = \"D2\"\n",
    "\n",
    "rna_data = []\n",
    "for condition, formatted_condition in rename_conditions.items():\n",
    "    rna_df = (\n",
    "        pd.read_csv(\n",
    "            dgea_rnaseq_data_dir_path\n",
    "            / \"13524_pc_genes_{}_{}_results.csv\".format(\n",
    "                condition.replace(\"_\", \"-\"), control_condition\n",
    "            ),\n",
    "            index_col = 0\n",
    "        )\n",
    "        .rename(\n",
    "            columns=lambda x: x\n",
    "            + \"_{}_vs_{}\".format(formatted_condition, control_condition)\n",
    "        )  # suffix indicating source\n",
    "    )  # rename column to join on\n",
    "    rna_df.index.name = \"gene_name\"\n",
    "    rna_data.append(rna_df.reset_index())\n",
    "\n",
    "\"\"\"\n",
    "    normalized_counts = normalized_counts.merge(\n",
    "        right=rna_df, \n",
    "        left_index=True,\n",
    "        right_index=True\n",
    "    )\n",
    "\n",
    "\"\"\"\n",
    "final_table = reduce(\n",
    "    lambda left, right: pd.merge(\n",
    "        left,\n",
    "        right,\n",
    "        on=\"gene_name\",\n",
    "        how=\"outer\",\n",
    "    ),\n",
    "    rna_data,\n",
    ")\n",
    "\n",
    "final_table[\"mean_sums\"] = final_table.filter(like = \"baseMean\").sum(axis=1)\n",
    "final_table = final_table[final_table[\"mean_sums\"] != 0]\n",
    "\n",
    "final_table.drop(\"mean_sums\", axis = 1).to_excel(\n",
    "    \"Data S1.xlsx\",\n",
    "    sheet_name=\"S1-1 Bulk RNA-Sequencing data\",\n",
    "    index=None,\n",
    "    startrow=2\n",
    ")"
   ]
  },
  {
   "cell_type": "markdown",
   "metadata": {},
   "source": [
    "# PIP5K1"
   ]
  },
  {
   "cell_type": "code",
   "execution_count": 2,
   "metadata": {},
   "outputs": [],
   "source": [
    "import sys\n",
    "\n",
    "sys.path.append(\"../../bin/\")\n",
    "\n",
    "from analysis_utils import * "
   ]
  },
  {
   "cell_type": "code",
   "execution_count": 3,
   "metadata": {},
   "outputs": [
    {
     "name": "stderr",
     "output_type": "stream",
     "text": [
      "/Users/henrysanford/miniconda/envs/exhaustion/lib/python3.12/site-packages/pandas/core/internals/blocks.py:393: RuntimeWarning: divide by zero encountered in log2\n",
      "  result = func(self.values, **kwargs)\n"
     ]
    },
    {
     "data": {
      "application/vnd.plotly.v1+json": {
       "config": {
        "plotlyServerURL": "https://plot.ly"
       },
       "data": [
        {
         "customdata": [
          [
           "sorted_bam_files/Donor1-10-D8A-1A_sorted.bam"
          ],
          [
           "sorted_bam_files/Donor1-11-D8A-1B_sorted.bam"
          ],
          [
           "sorted_bam_files/Donor1-12-D8A-1C_sorted.bam"
          ],
          [
           "sorted_bam_files/Donor1-13-D8C-Ctrl_sorted.bam"
          ],
          [
           "sorted_bam_files/Donor1-14-D8C-1A_sorted.bam"
          ],
          [
           "sorted_bam_files/Donor1-15-D8C-1B_sorted.bam"
          ],
          [
           "sorted_bam_files/Donor1-16-D8C-1C_sorted.bam"
          ],
          [
           "sorted_bam_files/Donor1-1-D8A-Ctrl_sorted.bam"
          ],
          [
           "sorted_bam_files/Donor1-2-D8A-1A_sorted.bam"
          ],
          [
           "sorted_bam_files/Donor1-3-D8A-1B_sorted.bam"
          ],
          [
           "sorted_bam_files/Donor1-4-D8A-1C_sorted.bam"
          ],
          [
           "sorted_bam_files/Donor1-5-D8C-Ctrl_sorted.bam"
          ],
          [
           "sorted_bam_files/Donor1-6-D8C-1A_sorted.bam"
          ],
          [
           "sorted_bam_files/Donor1-7-D8C-1B_sorted.bam"
          ],
          [
           "sorted_bam_files/Donor1-8-D8C-1C_sorted.bam"
          ],
          [
           "sorted_bam_files/Donor1-9-D8A-Ctrl_sorted.bam"
          ],
          [
           "sorted_bam_files/Donor2-10-D8A-1A_sorted.bam"
          ],
          [
           "sorted_bam_files/Donor2-11-D8A-1B_sorted.bam"
          ],
          [
           "sorted_bam_files/Donor2-12-D8A-1C_sorted.bam"
          ],
          [
           "sorted_bam_files/Donor2-13-D8C-Ctrl_sorted.bam"
          ],
          [
           "sorted_bam_files/Donor2-14-D8C-1A_sorted.bam"
          ],
          [
           "sorted_bam_files/Donor2-15-D8C-1B_sorted.bam"
          ],
          [
           "sorted_bam_files/Donor2-16-D8C-1C_sorted.bam"
          ],
          [
           "sorted_bam_files/Donor2-1-D8A-Ctrl_sorted.bam"
          ],
          [
           "sorted_bam_files/Donor2-2-D8A-1A_sorted.bam"
          ],
          [
           "sorted_bam_files/Donor2-3-D8A-1B_sorted.bam"
          ],
          [
           "sorted_bam_files/Donor2-4-D8A-1C_sorted.bam"
          ],
          [
           "sorted_bam_files/Donor2-5-D8C-Ctrl_sorted.bam"
          ],
          [
           "sorted_bam_files/Donor2-6-D8C-1A_sorted.bam"
          ],
          [
           "sorted_bam_files/Donor2-7-D8C-1B_sorted.bam"
          ],
          [
           "sorted_bam_files/Donor2-8-D8C-1C_sorted.bam"
          ],
          [
           "sorted_bam_files/Donor2-9-D8A-Ctrl_sorted.bam"
          ],
          [
           "sorted_bam_files/Donor3-10-D8A-1A_sorted.bam"
          ],
          [
           "sorted_bam_files/Donor3-11-D8A-1B_sorted.bam"
          ],
          [
           "sorted_bam_files/Donor3-12-D8A-1C_sorted.bam"
          ],
          [
           "sorted_bam_files/Donor3-13-D8C-Ctrl_sorted.bam"
          ],
          [
           "sorted_bam_files/Donor3-14-D8C-1A_sorted.bam"
          ],
          [
           "sorted_bam_files/Donor3-15-D8C-1B_sorted.bam"
          ],
          [
           "sorted_bam_files/Donor3-16-D8C-1C_sorted.bam"
          ],
          [
           "sorted_bam_files/Donor3-1-D8A-Ctrl_sorted.bam"
          ],
          [
           "sorted_bam_files/Donor3-2-D8A-1A_sorted.bam"
          ],
          [
           "sorted_bam_files/Donor3-3-D8A-1B_sorted.bam"
          ],
          [
           "sorted_bam_files/Donor3-4-D8A-1C_sorted.bam"
          ],
          [
           "sorted_bam_files/Donor3-5-D8C-Ctrl_sorted.bam"
          ],
          [
           "sorted_bam_files/Donor3-6-D8C-1A_sorted.bam"
          ],
          [
           "sorted_bam_files/Donor3-7-D8C-1B_sorted.bam"
          ],
          [
           "sorted_bam_files/Donor3-8-D8C-1C_sorted.bam"
          ],
          [
           "sorted_bam_files/Donor3-9-D8A-Ctrl_sorted.bam"
          ]
         ],
         "hovertemplate": "Condition=sorted<br>PC1 (85.37%)=%{x}<br>PC2 (4.41%)=%{y}<br>channel_name=%{customdata[0]}<extra></extra>",
         "legendgroup": "sorted",
         "marker": {
          "color": "salmon",
          "size": 12,
          "symbol": "circle"
         },
         "mode": "markers",
         "name": "sorted",
         "orientation": "v",
         "showlegend": true,
         "type": "scatter",
         "x": [
          -53.79446837262891,
          -54.552571550397786,
          -53.658836560108064,
          51.04316539720789,
          50.05234290912216,
          50.725935609546,
          43.233848176589696,
          -53.10479345243126,
          -53.30360750846585,
          -53.91231683318516,
          -54.155904830258656,
          50.83036193295059,
          52.05980255623663,
          51.053200319677494,
          49.084347280116894,
          -54.15047791520416,
          -51.38421667914355,
          -51.159296032209106,
          -46.013213632289876,
          50.44363900292948,
          50.03139599525535,
          50.91733457845976,
          50.97856666655519,
          -51.641844375519014,
          -51.4881532837303,
          -52.241414266035854,
          -52.03500419695799,
          50.67937129011243,
          51.21806082378875,
          50.8475612654996,
          50.48291700435151,
          -50.188351171893956,
          -51.42178765072667,
          -49.82031286634008,
          -50.535590675977474,
          55.44501039144914,
          55.092399336040586,
          54.8204888359903,
          55.21745503757186,
          -49.15272617999082,
          -48.94378489059178,
          -49.81435549460622,
          -48.779695304478956,
          56.465201593957886,
          44.10273256793947,
          53.92931951024479,
          55.613776337803806,
          -49.11551069622578
         ],
         "xaxis": "x",
         "y": [
          7.263705823731905,
          8.645828045325297,
          7.225744480466867,
          16.121620787379054,
          21.330806067623065,
          18.696141748654785,
          26.082889108203393,
          7.649723231003749,
          7.70779524211148,
          7.008342131800728,
          6.989590528732246,
          15.381498879193812,
          14.23093088662142,
          17.246452145233317,
          22.912190558635647,
          8.079065131245843,
          -5.327354399288931,
          -6.746593089773495,
          -7.576498165398137,
          -22.305499649870043,
          -20.547320936651325,
          -16.095600419669086,
          -8.861211933205192,
          -4.562009040799013,
          -7.504051064118979,
          -6.271529628473416,
          -6.635387613218644,
          -20.44445616165147,
          -14.224243749624431,
          -16.963251699509254,
          -8.921017421057256,
          -5.314080105417359,
          -2.672087556320818,
          -3.0617965814315813,
          -1.5023051082053314,
          -5.64035165572752,
          0.7479973022692646,
          -3.303664159043517,
          -5.322671733782661,
          -2.099365158399717,
          -3.1143014300644105,
          -1.5676249651811902,
          -1.9398797314524574,
          -15.779722441902614,
          13.467220534350778,
          -0.35723152857075097,
          -0.9186237620792705,
          -1.2078117426947488
         ],
         "yaxis": "y"
        }
       ],
       "layout": {
        "height": 600,
        "legend": {
         "title": {
          "text": ""
         },
         "tracegroupgap": 0
        },
        "showlegend": true,
        "template": {
         "data": {
          "bar": [
           {
            "error_x": {
             "color": "#2a3f5f"
            },
            "error_y": {
             "color": "#2a3f5f"
            },
            "marker": {
             "line": {
              "color": "white",
              "width": 0.5
             },
             "pattern": {
              "fillmode": "overlay",
              "size": 10,
              "solidity": 0.2
             }
            },
            "type": "bar"
           }
          ],
          "barpolar": [
           {
            "marker": {
             "line": {
              "color": "white",
              "width": 0.5
             },
             "pattern": {
              "fillmode": "overlay",
              "size": 10,
              "solidity": 0.2
             }
            },
            "type": "barpolar"
           }
          ],
          "carpet": [
           {
            "aaxis": {
             "endlinecolor": "#2a3f5f",
             "gridcolor": "#C8D4E3",
             "linecolor": "#C8D4E3",
             "minorgridcolor": "#C8D4E3",
             "startlinecolor": "#2a3f5f"
            },
            "baxis": {
             "endlinecolor": "#2a3f5f",
             "gridcolor": "#C8D4E3",
             "linecolor": "#C8D4E3",
             "minorgridcolor": "#C8D4E3",
             "startlinecolor": "#2a3f5f"
            },
            "type": "carpet"
           }
          ],
          "choropleth": [
           {
            "colorbar": {
             "outlinewidth": 0,
             "ticks": ""
            },
            "type": "choropleth"
           }
          ],
          "contour": [
           {
            "colorbar": {
             "outlinewidth": 0,
             "ticks": ""
            },
            "colorscale": [
             [
              0,
              "#0d0887"
             ],
             [
              0.1111111111111111,
              "#46039f"
             ],
             [
              0.2222222222222222,
              "#7201a8"
             ],
             [
              0.3333333333333333,
              "#9c179e"
             ],
             [
              0.4444444444444444,
              "#bd3786"
             ],
             [
              0.5555555555555556,
              "#d8576b"
             ],
             [
              0.6666666666666666,
              "#ed7953"
             ],
             [
              0.7777777777777778,
              "#fb9f3a"
             ],
             [
              0.8888888888888888,
              "#fdca26"
             ],
             [
              1,
              "#f0f921"
             ]
            ],
            "type": "contour"
           }
          ],
          "contourcarpet": [
           {
            "colorbar": {
             "outlinewidth": 0,
             "ticks": ""
            },
            "type": "contourcarpet"
           }
          ],
          "heatmap": [
           {
            "colorbar": {
             "outlinewidth": 0,
             "ticks": ""
            },
            "colorscale": [
             [
              0,
              "#0d0887"
             ],
             [
              0.1111111111111111,
              "#46039f"
             ],
             [
              0.2222222222222222,
              "#7201a8"
             ],
             [
              0.3333333333333333,
              "#9c179e"
             ],
             [
              0.4444444444444444,
              "#bd3786"
             ],
             [
              0.5555555555555556,
              "#d8576b"
             ],
             [
              0.6666666666666666,
              "#ed7953"
             ],
             [
              0.7777777777777778,
              "#fb9f3a"
             ],
             [
              0.8888888888888888,
              "#fdca26"
             ],
             [
              1,
              "#f0f921"
             ]
            ],
            "type": "heatmap"
           }
          ],
          "heatmapgl": [
           {
            "colorbar": {
             "outlinewidth": 0,
             "ticks": ""
            },
            "colorscale": [
             [
              0,
              "#0d0887"
             ],
             [
              0.1111111111111111,
              "#46039f"
             ],
             [
              0.2222222222222222,
              "#7201a8"
             ],
             [
              0.3333333333333333,
              "#9c179e"
             ],
             [
              0.4444444444444444,
              "#bd3786"
             ],
             [
              0.5555555555555556,
              "#d8576b"
             ],
             [
              0.6666666666666666,
              "#ed7953"
             ],
             [
              0.7777777777777778,
              "#fb9f3a"
             ],
             [
              0.8888888888888888,
              "#fdca26"
             ],
             [
              1,
              "#f0f921"
             ]
            ],
            "type": "heatmapgl"
           }
          ],
          "histogram": [
           {
            "marker": {
             "pattern": {
              "fillmode": "overlay",
              "size": 10,
              "solidity": 0.2
             }
            },
            "type": "histogram"
           }
          ],
          "histogram2d": [
           {
            "colorbar": {
             "outlinewidth": 0,
             "ticks": ""
            },
            "colorscale": [
             [
              0,
              "#0d0887"
             ],
             [
              0.1111111111111111,
              "#46039f"
             ],
             [
              0.2222222222222222,
              "#7201a8"
             ],
             [
              0.3333333333333333,
              "#9c179e"
             ],
             [
              0.4444444444444444,
              "#bd3786"
             ],
             [
              0.5555555555555556,
              "#d8576b"
             ],
             [
              0.6666666666666666,
              "#ed7953"
             ],
             [
              0.7777777777777778,
              "#fb9f3a"
             ],
             [
              0.8888888888888888,
              "#fdca26"
             ],
             [
              1,
              "#f0f921"
             ]
            ],
            "type": "histogram2d"
           }
          ],
          "histogram2dcontour": [
           {
            "colorbar": {
             "outlinewidth": 0,
             "ticks": ""
            },
            "colorscale": [
             [
              0,
              "#0d0887"
             ],
             [
              0.1111111111111111,
              "#46039f"
             ],
             [
              0.2222222222222222,
              "#7201a8"
             ],
             [
              0.3333333333333333,
              "#9c179e"
             ],
             [
              0.4444444444444444,
              "#bd3786"
             ],
             [
              0.5555555555555556,
              "#d8576b"
             ],
             [
              0.6666666666666666,
              "#ed7953"
             ],
             [
              0.7777777777777778,
              "#fb9f3a"
             ],
             [
              0.8888888888888888,
              "#fdca26"
             ],
             [
              1,
              "#f0f921"
             ]
            ],
            "type": "histogram2dcontour"
           }
          ],
          "mesh3d": [
           {
            "colorbar": {
             "outlinewidth": 0,
             "ticks": ""
            },
            "type": "mesh3d"
           }
          ],
          "parcoords": [
           {
            "line": {
             "colorbar": {
              "outlinewidth": 0,
              "ticks": ""
             }
            },
            "type": "parcoords"
           }
          ],
          "pie": [
           {
            "automargin": true,
            "type": "pie"
           }
          ],
          "scatter": [
           {
            "fillpattern": {
             "fillmode": "overlay",
             "size": 10,
             "solidity": 0.2
            },
            "type": "scatter"
           }
          ],
          "scatter3d": [
           {
            "line": {
             "colorbar": {
              "outlinewidth": 0,
              "ticks": ""
             }
            },
            "marker": {
             "colorbar": {
              "outlinewidth": 0,
              "ticks": ""
             }
            },
            "type": "scatter3d"
           }
          ],
          "scattercarpet": [
           {
            "marker": {
             "colorbar": {
              "outlinewidth": 0,
              "ticks": ""
             }
            },
            "type": "scattercarpet"
           }
          ],
          "scattergeo": [
           {
            "marker": {
             "colorbar": {
              "outlinewidth": 0,
              "ticks": ""
             }
            },
            "type": "scattergeo"
           }
          ],
          "scattergl": [
           {
            "marker": {
             "colorbar": {
              "outlinewidth": 0,
              "ticks": ""
             }
            },
            "type": "scattergl"
           }
          ],
          "scattermapbox": [
           {
            "marker": {
             "colorbar": {
              "outlinewidth": 0,
              "ticks": ""
             }
            },
            "type": "scattermapbox"
           }
          ],
          "scatterpolar": [
           {
            "marker": {
             "colorbar": {
              "outlinewidth": 0,
              "ticks": ""
             }
            },
            "type": "scatterpolar"
           }
          ],
          "scatterpolargl": [
           {
            "marker": {
             "colorbar": {
              "outlinewidth": 0,
              "ticks": ""
             }
            },
            "type": "scatterpolargl"
           }
          ],
          "scatterternary": [
           {
            "marker": {
             "colorbar": {
              "outlinewidth": 0,
              "ticks": ""
             }
            },
            "type": "scatterternary"
           }
          ],
          "surface": [
           {
            "colorbar": {
             "outlinewidth": 0,
             "ticks": ""
            },
            "colorscale": [
             [
              0,
              "#0d0887"
             ],
             [
              0.1111111111111111,
              "#46039f"
             ],
             [
              0.2222222222222222,
              "#7201a8"
             ],
             [
              0.3333333333333333,
              "#9c179e"
             ],
             [
              0.4444444444444444,
              "#bd3786"
             ],
             [
              0.5555555555555556,
              "#d8576b"
             ],
             [
              0.6666666666666666,
              "#ed7953"
             ],
             [
              0.7777777777777778,
              "#fb9f3a"
             ],
             [
              0.8888888888888888,
              "#fdca26"
             ],
             [
              1,
              "#f0f921"
             ]
            ],
            "type": "surface"
           }
          ],
          "table": [
           {
            "cells": {
             "fill": {
              "color": "#EBF0F8"
             },
             "line": {
              "color": "white"
             }
            },
            "header": {
             "fill": {
              "color": "#C8D4E3"
             },
             "line": {
              "color": "white"
             }
            },
            "type": "table"
           }
          ]
         },
         "layout": {
          "annotationdefaults": {
           "arrowcolor": "#2a3f5f",
           "arrowhead": 0,
           "arrowwidth": 1
          },
          "autotypenumbers": "strict",
          "coloraxis": {
           "colorbar": {
            "outlinewidth": 0,
            "ticks": ""
           }
          },
          "colorscale": {
           "diverging": [
            [
             0,
             "#8e0152"
            ],
            [
             0.1,
             "#c51b7d"
            ],
            [
             0.2,
             "#de77ae"
            ],
            [
             0.3,
             "#f1b6da"
            ],
            [
             0.4,
             "#fde0ef"
            ],
            [
             0.5,
             "#f7f7f7"
            ],
            [
             0.6,
             "#e6f5d0"
            ],
            [
             0.7,
             "#b8e186"
            ],
            [
             0.8,
             "#7fbc41"
            ],
            [
             0.9,
             "#4d9221"
            ],
            [
             1,
             "#276419"
            ]
           ],
           "sequential": [
            [
             0,
             "#0d0887"
            ],
            [
             0.1111111111111111,
             "#46039f"
            ],
            [
             0.2222222222222222,
             "#7201a8"
            ],
            [
             0.3333333333333333,
             "#9c179e"
            ],
            [
             0.4444444444444444,
             "#bd3786"
            ],
            [
             0.5555555555555556,
             "#d8576b"
            ],
            [
             0.6666666666666666,
             "#ed7953"
            ],
            [
             0.7777777777777778,
             "#fb9f3a"
            ],
            [
             0.8888888888888888,
             "#fdca26"
            ],
            [
             1,
             "#f0f921"
            ]
           ],
           "sequentialminus": [
            [
             0,
             "#0d0887"
            ],
            [
             0.1111111111111111,
             "#46039f"
            ],
            [
             0.2222222222222222,
             "#7201a8"
            ],
            [
             0.3333333333333333,
             "#9c179e"
            ],
            [
             0.4444444444444444,
             "#bd3786"
            ],
            [
             0.5555555555555556,
             "#d8576b"
            ],
            [
             0.6666666666666666,
             "#ed7953"
            ],
            [
             0.7777777777777778,
             "#fb9f3a"
            ],
            [
             0.8888888888888888,
             "#fdca26"
            ],
            [
             1,
             "#f0f921"
            ]
           ]
          },
          "colorway": [
           "#636efa",
           "#EF553B",
           "#00cc96",
           "#ab63fa",
           "#FFA15A",
           "#19d3f3",
           "#FF6692",
           "#B6E880",
           "#FF97FF",
           "#FECB52"
          ],
          "font": {
           "color": "#2a3f5f"
          },
          "geo": {
           "bgcolor": "white",
           "lakecolor": "white",
           "landcolor": "white",
           "showlakes": true,
           "showland": true,
           "subunitcolor": "#C8D4E3"
          },
          "hoverlabel": {
           "align": "left"
          },
          "hovermode": "closest",
          "mapbox": {
           "style": "light"
          },
          "paper_bgcolor": "white",
          "plot_bgcolor": "white",
          "polar": {
           "angularaxis": {
            "gridcolor": "#EBF0F8",
            "linecolor": "#EBF0F8",
            "ticks": ""
           },
           "bgcolor": "white",
           "radialaxis": {
            "gridcolor": "#EBF0F8",
            "linecolor": "#EBF0F8",
            "ticks": ""
           }
          },
          "scene": {
           "xaxis": {
            "backgroundcolor": "white",
            "gridcolor": "#DFE8F3",
            "gridwidth": 2,
            "linecolor": "#EBF0F8",
            "showbackground": true,
            "ticks": "",
            "zerolinecolor": "#EBF0F8"
           },
           "yaxis": {
            "backgroundcolor": "white",
            "gridcolor": "#DFE8F3",
            "gridwidth": 2,
            "linecolor": "#EBF0F8",
            "showbackground": true,
            "ticks": "",
            "zerolinecolor": "#EBF0F8"
           },
           "zaxis": {
            "backgroundcolor": "white",
            "gridcolor": "#DFE8F3",
            "gridwidth": 2,
            "linecolor": "#EBF0F8",
            "showbackground": true,
            "ticks": "",
            "zerolinecolor": "#EBF0F8"
           }
          },
          "shapedefaults": {
           "line": {
            "color": "#2a3f5f"
           }
          },
          "ternary": {
           "aaxis": {
            "gridcolor": "#DFE8F3",
            "linecolor": "#A2B1C6",
            "ticks": ""
           },
           "baxis": {
            "gridcolor": "#DFE8F3",
            "linecolor": "#A2B1C6",
            "ticks": ""
           },
           "bgcolor": "white",
           "caxis": {
            "gridcolor": "#DFE8F3",
            "linecolor": "#A2B1C6",
            "ticks": ""
           }
          },
          "title": {
           "x": 0.05
          },
          "xaxis": {
           "automargin": true,
           "gridcolor": "#EBF0F8",
           "linecolor": "#EBF0F8",
           "ticks": "",
           "title": {
            "standoff": 15
           },
           "zerolinecolor": "#EBF0F8",
           "zerolinewidth": 2
          },
          "yaxis": {
           "automargin": true,
           "gridcolor": "#EBF0F8",
           "linecolor": "#EBF0F8",
           "ticks": "",
           "title": {
            "standoff": 15
           },
           "zerolinecolor": "#EBF0F8",
           "zerolinewidth": 2
          }
         }
        },
        "title": {
         "text": "RNA-Seq (4948 Proteins)"
        },
        "width": 600,
        "xaxis": {
         "anchor": "y",
         "domain": [
          0,
          1
         ],
         "dtick": 5,
         "gridcolor": "#E8E8E8",
         "gridwidth": 2,
         "linecolor": "black",
         "linewidth": 2,
         "mirror": true,
         "showgrid": true,
         "showline": true,
         "title": {
          "text": "PC1 (85.37%)"
         },
         "zerolinecolor": "#E8E8E8",
         "zerolinewidth": 2
        },
        "yaxis": {
         "anchor": "x",
         "domain": [
          0,
          1
         ],
         "dtick": 5,
         "gridcolor": "#E8E8E8",
         "gridwidth": 2,
         "linecolor": "black",
         "linewidth": 2,
         "mirror": true,
         "showgrid": true,
         "showline": true,
         "title": {
          "text": "PC2 (4.41%)"
         },
         "zerolinecolor": "#E8E8E8",
         "zerolinewidth": 2
        }
       }
      }
     },
     "metadata": {},
     "output_type": "display_data"
    }
   ],
   "source": [
    "data_path = Path('/Users/henrysanford/Dropbox @RU Dropbox/Vinogradova Laboratory/Exhaustion manuscript/01_RNA-sequencing/PIP5K1-KO')\n",
    "\n",
    "results_dir = data_path / \"PCA_5000_genes\"\n",
    "results_dir.mkdir(exist_ok=True)\n",
    "\n",
    "df_path =  data_path / 'FPKM_matrix.txt'\n",
    "df = pd.read_csv(df_path, index_col=[0], sep=\"\\t\")\n",
    "gene_id_df = pd.read_csv(\"mart_export.txt\", sep=\"\\t\")\n",
    "protein_coding_genes = gene_id_df[gene_id_df[\"Gene type\"] == \"protein_coding\"]\n",
    "gene_stable_ids = set(protein_coding_genes[\"Gene stable ID\"])\n",
    "gene_names = set(protein_coding_genes[\"Gene name\"])\n",
    "gene_synonyms = set(protein_coding_genes[\"Gene Synonym\"])\n",
    "protein_coding_counts = []\n",
    "for i,r in df.iterrows():\n",
    "    if (i in gene_stable_ids) or (i in gene_names) or (i in gene_synonyms):\n",
    "        protein_coding_counts.append(r)\n",
    "df = pd.DataFrame(protein_coding_counts)\n",
    "\n",
    "df[\"variance\"] = np.var(df, axis = 1)\n",
    "df = df.sort_values(\"variance\")\n",
    "df = df.tail(5000)\n",
    "df = df.drop([\"variance\"], axis=1)\n",
    "df.to_csv(results_dir / \"normalized_counts_5000_protein_coding_genes.csv\")\n",
    "#df = df.filter(regex=\"Donor2\", axis = 1)\n",
    "\n",
    "fig, loadings_df, finalDf, percent_df = get_pca_plot(\n",
    "    df = df.reset_index(names = \"Geneid\"),\n",
    "    index_cols = \"Geneid\",\n",
    "    title_string = \"RNA-Seq\",\n",
    "    out_dir = results_dir,\n",
    "    with_log = False\n",
    ")\n",
    "fig.show()\n",
    "\n",
    "loadings_df.to_csv(results_dir / \"loadings_results.csv\")\n",
    "\n",
    "finalDf.to_csv(results_dir / \"pca_results.csv\")\n",
    "\n"
   ]
  },
  {
   "cell_type": "code",
   "execution_count": 4,
   "metadata": {},
   "outputs": [
    {
     "name": "stderr",
     "output_type": "stream",
     "text": [
      "/Users/henrysanford/miniconda/envs/exhaustion/lib/python3.12/site-packages/gseapy/msigdb.py:29: FutureWarning:\n",
      "\n",
      "Passing literal html to 'read_html' is deprecated and will be removed in a future version. To read from a literal string, wrap it in a 'StringIO' object.\n",
      "\n",
      "/Users/henrysanford/miniconda/envs/exhaustion/lib/python3.12/site-packages/gseapy/msigdb.py:95: FutureWarning:\n",
      "\n",
      "Passing literal html to 'read_html' is deprecated and will be removed in a future version. To read from a literal string, wrap it in a 'StringIO' object.\n",
      "\n",
      "/var/folders/_y/ykkyh0zs03x3r9jzl6tpc7rm0000gq/T/ipykernel_97573/353410664.py:14: DeprecationWarning:\n",
      "\n",
      "processes is deprecated; use threads\n",
      "\n",
      "/Users/henrysanford/miniconda/envs/exhaustion/lib/python3.12/site-packages/gseapy/plot.py:738: FutureWarning:\n",
      "\n",
      "Downcasting object dtype arrays on .fillna, .ffill, .bfill is deprecated and will change in a future version. Call result.infer_objects(copy=False) instead. To opt-in to the future behavior, set `pd.set_option('future.no_silent_downcasting', True)`\n",
      "\n",
      "/var/folders/_y/ykkyh0zs03x3r9jzl6tpc7rm0000gq/T/ipykernel_97573/353410664.py:56: UserWarning:\n",
      "\n",
      "Tight layout not applied. The left and right margins cannot be made large enough to accommodate all axes decorations.\n",
      "\n"
     ]
    },
    {
     "data": {
      "image/png": "[encoded data removed]",
      "text/plain": [
       "<Figure size 1000x1000 with 2 Axes>"
      ]
     },
     "metadata": {},
     "output_type": "display_data"
    },
    {
     "name": "stderr",
     "output_type": "stream",
     "text": [
      "/var/folders/_y/ykkyh0zs03x3r9jzl6tpc7rm0000gq/T/ipykernel_97573/353410664.py:14: DeprecationWarning:\n",
      "\n",
      "processes is deprecated; use threads\n",
      "\n",
      "/Users/henrysanford/miniconda/envs/exhaustion/lib/python3.12/site-packages/gseapy/plot.py:738: FutureWarning:\n",
      "\n",
      "Downcasting behavior in `replace` is deprecated and will be removed in a future version. To retain the old behavior, explicitly call `result.infer_objects(copy=False)`. To opt-in to the future behavior, set `pd.set_option('future.no_silent_downcasting', True)`\n",
      "\n",
      "/var/folders/_y/ykkyh0zs03x3r9jzl6tpc7rm0000gq/T/ipykernel_97573/353410664.py:56: UserWarning:\n",
      "\n",
      "Tight layout not applied. The left and right margins cannot be made large enough to accommodate all axes decorations.\n",
      "\n"
     ]
    },
    {
     "data": {
      "image/png": "[encoded data removed]",
      "text/plain": [
       "<Figure size 1000x1000 with 2 Axes>"
      ]
     },
     "metadata": {},
     "output_type": "display_data"
    }
   ],
   "source": [
    "import gseapy as gp\n",
    "from gseapy import Msigdb\n",
    "import matplotlib.pyplot as plt\n",
    "\n",
    "\n",
    "def perform_gsea_proteomics(loading_results, gene_sets, output_dir, pc):\n",
    "    \"\"\"\n",
    "    Perform GSEA on proteomics loading results.\n",
    "    \"\"\"\n",
    "    # Sort proteins by loading score\n",
    "    ranked_proteins = loading_results.sort_values(ascending=True, by=pc)\n",
    "\n",
    "    # Perform GSEA\n",
    "    gsea_results = gp.prerank(\n",
    "        rnk=ranked_proteins,\n",
    "        gene_sets=gene_sets,\n",
    "        processes=4,\n",
    "        correction=\"bh\",\n",
    "        permutation_num=1000,\n",
    "        outdir=output_dir,\n",
    "        seed=42,\n",
    "        no_plot=True,\n",
    "    )\n",
    "\n",
    "    return gsea_results\n",
    "\n",
    "msig = Msigdb()\n",
    "# c5.go.bp = GO biological process\n",
    "gmt_name = \"c5.go.bp\"\n",
    "gmt = msig.get_gmt(gmt_name)\n",
    "\n",
    "\n",
    "for pc in [\"PC1\", \"PC2\"]:\n",
    "    pc_path = results_dir / pc\n",
    "    pre_res = perform_gsea_proteomics(\n",
    "        pd.DataFrame(loadings_df[pc]), gene_sets=gmt, output_dir=pc_path, pc=pc\n",
    "    )\n",
    "\n",
    "    df = pre_res.res2d\n",
    "    df[\"abs_nes\"] = -abs(df[\"NES\"])\n",
    "    df = df[df[\"NOM p-val\"] < 0.01]\n",
    "\n",
    "    terms = pre_res.res2d.Term[:10]  # Top 5 enriched terms\n",
    "    fig, axes = plt.subplots(nrows=1, ncols=1, figsize=(10, 10))\n",
    "\n",
    "    # Dot plot\n",
    "    gp.plot.dotplot(\n",
    "        pre_res.res2d,\n",
    "        title=f\"Top enriched terms for {pc}\",\n",
    "        cmap=\"viridis\",\n",
    "        size=5,\n",
    "        top_term=15,\n",
    "        ax=axes,\n",
    "        column=\"FDR q-val\",\n",
    "    )\n",
    "    plt.tight_layout()\n",
    "    plt.savefig(\n",
    "        pc_path / \"top_enriched_terms.svg\", bbox_inches=\"tight\"\n",
    "    )\n",
    "    plt.show()"
   ]
  }
 ],
 "metadata": {
  "kernelspec": {
   "display_name": "exhaustion",
   "language": "python",
   "name": "python3"
  },
  "language_info": {
   "codemirror_mode": {
    "name": "ipython",
    "version": 3
   },
   "file_extension": ".py",
   "mimetype": "text/x-python",
   "name": "python",
   "nbconvert_exporter": "python",
   "pygments_lexer": "ipython3",
   "version": "3.12.3"
  }
 },
 "nbformat": 4,
 "nbformat_minor": 2
}
